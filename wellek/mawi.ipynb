{
 "cells": [
  {
   "cell_type": "code",
   "execution_count": 28,
   "metadata": {},
   "outputs": [],
   "source": [
    "mawi <- function(alpha,m,n,eps1_,eps2_,x,y)                {\n",
    "eqctr <- 0.5 + (eps2_-eps1_)/2 \n",
    "eqleng <- eps1_ + eps2_\n",
    "\n",
    "wxy <- 0\n",
    "pihxxy <- 0\n",
    "pihxyy <- 0\n",
    "\n",
    "for (i in 1:m)\n",
    "    for (j in 1:n)\n",
    "        wxy <- wxy + trunc(0.5*(sign(x[i] - y[j]) + 1))\n",
    "\n",
    "for (i in 1:m)\n",
    "    for (j1 in 1:(n-1))\n",
    "        for (j2 in (j1+1):n)\n",
    "            pihxyy <- pihxyy + trunc(0.5*(sign(x[i] - max(y[j1],y[j2])) + 1))\n",
    "\n",
    "for (i1 in 1:(m-1))\n",
    "    for (i2 in (i1+1):m)\n",
    "        for (j in 1:n)\n",
    "            pihxxy <- pihxxy + trunc(0.5*(sign(min(x[i1],x[i2]) - y[j]) + 1))\n",
    "\n",
    "wxy <- wxy / (m*n)\n",
    "pihxxy <- pihxxy*2 / (m*(m-1)*n)\n",
    "print(pihxxy)\n",
    "pihxyy <- pihxyy*2 / (n*(n-1)*m)\n",
    "print(pihxyy)\n",
    "sigmah <- sqrt((wxy-(m+n-1)*wxy**2+(m-1)*pihxxy+(n-1)*pihxyy)/(m*n))\n",
    "print(eqleng)\n",
    "print((eqleng/2/sigmah)**2)\n",
    "crit <- sqrt(qchisq(alpha,1,(eqleng/2/sigmah)**2))\n",
    "\n",
    "print(abs((wxy-eqctr)/sigmah))\n",
    "if (abs((wxy-eqctr)/sigmah) >= crit) rej <- 0\n",
    "if (abs((wxy-eqctr)/sigmah) < crit)  rej <- 1\n",
    "\n",
    "# if (is.na(sigmah) || is.na(crit)) rej <- 0\n",
    "\n",
    "cat(\" alpha =\",alpha,\"  m =\",m,\"  n =\",n,\"  eps1_ =\",eps1_,\"  eps2_ =\",eps2_,\n",
    " \"\\n\",\"W+ =\",wxy,\"  SIGMAH =\",sigmah,\"  CRIT =\",crit,\"  REJ =\",rej,\"  VALUE =\",abs((wxy-eqctr)/sigmah))\n",
    "}"
   ]
  },
  {
   "cell_type": "code",
   "execution_count": 29,
   "metadata": {},
   "outputs": [],
   "source": [
    "# x <- c(10.3,11.3,2.0,-6.1,6.2,6.8,3.7,-3.3,-3.6,-3.5,13.7,12.6)\n",
    "# y <- c(3.3,17.7,6.7,11.1,-5.8,6.9,5.8,3.0,6.0,3.5,18.7)\n",
    "# mawi(0.05,12,11,0.1382,0.2602,x,y)"
   ]
  },
  {
   "cell_type": "code",
   "execution_count": 30,
   "metadata": {},
   "outputs": [
    {
     "data": {
      "text/html": [
       "15.0615525357793"
      ],
      "text/latex": [
       "15.0615525357793"
      ],
      "text/markdown": [
       "15.0615525357793"
      ],
      "text/plain": [
       "[1] 15.06155"
      ]
     },
     "metadata": {},
     "output_type": "display_data"
    }
   ],
   "source": [
    "qchisq(0.95,1,5)"
   ]
  },
  {
   "cell_type": "code",
   "execution_count": 31,
   "metadata": {},
   "outputs": [
    {
     "name": "stdout",
     "output_type": "stream",
     "text": [
      "[1] 0.1333333\n",
      "[1] 0.08888889\n",
      "[1] 0.3984\n",
      "[1] 2.48004\n",
      "[1] 2.326909\n",
      " alpha = 0.05   m = 3   n = 10   eps1_ = 0.1382   eps2_ = 0.2602 \n",
      " W+ = 0.2666667   SIGMAH = 0.1264911   CRIT = 0.2141516   REJ = 0   VALUE = 2.326909"
     ]
    }
   ],
   "source": [
    "x <- c(3.81192403742371, 3.5673816164562404, 1.98204289817227)\n",
    "y <- c(5, 4, 2, 4, 3, 5, 4, 4, 3, 3)\n",
    "mawi(0.05,3,10,0.1382,0.2602,x,y)"
   ]
  },
  {
   "cell_type": "code",
   "execution_count": 32,
   "metadata": {},
   "outputs": [
    {
     "data": {
      "text/html": [
       "0.0458609044645412"
      ],
      "text/latex": [
       "0.0458609044645412"
      ],
      "text/markdown": [
       "0.0458609044645412"
      ],
      "text/plain": [
       "[1] 0.0458609"
      ]
     },
     "metadata": {},
     "output_type": "display_data"
    }
   ],
   "source": [
    "qchisq(0.05,1,2.48004)"
   ]
  },
  {
   "cell_type": "code",
   "execution_count": 33,
   "metadata": {},
   "outputs": [
    {
     "name": "stdout",
     "output_type": "stream",
     "text": [
      "[1] 0.03333333\n",
      "[1] 0\n",
      "[1] 0.3984\n",
      "[1] 14.88024\n",
      "[1] 9.572724\n",
      " alpha = 0.05   m = 3   n = 10   eps1_ = 0.1382   eps2_ = 0.2602 \n",
      " W+ = 0.06666667   SIGMAH = 0.05163978   CRIT = 2.212638   REJ = 0   VALUE = 9.572724"
     ]
    }
   ],
   "source": [
    "x <- c(2.3916735352926803, 3.05191747125004, 3.6168660542597)\n",
    "y <- c(7, 4, 5, 7, 3, 6, 5, 5, 4, 5)\n",
    "mawi(0.05,3,10,0.1382,0.2602,x,y)"
   ]
  },
  {
   "cell_type": "code",
   "execution_count": 34,
   "metadata": {},
   "outputs": [
    {
     "data": {
      "text/html": [
       "4.8957659988841"
      ],
      "text/latex": [
       "4.8957659988841"
      ],
      "text/markdown": [
       "4.8957659988841"
      ],
      "text/plain": [
       "[1] 4.895766"
      ]
     },
     "metadata": {},
     "output_type": "display_data"
    }
   ],
   "source": [
    "qchisq(0.05,1,14.88024)"
   ]
  },
  {
   "cell_type": "code",
   "execution_count": null,
   "metadata": {},
   "outputs": [],
   "source": []
  }
 ],
 "metadata": {
  "kernelspec": {
   "display_name": "R",
   "language": "R",
   "name": "ir"
  },
  "language_info": {
   "codemirror_mode": "r",
   "file_extension": ".r",
   "mimetype": "text/x-r-source",
   "name": "R",
   "pygments_lexer": "r",
   "version": "3.4.4"
  }
 },
 "nbformat": 4,
 "nbformat_minor": 2
}
