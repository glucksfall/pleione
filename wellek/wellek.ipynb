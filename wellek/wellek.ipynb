{
 "cells": [
  {
   "cell_type": "code",
   "execution_count": 1,
   "metadata": {},
   "outputs": [],
   "source": [
    "import pandas\n",
    "import numpy"
   ]
  },
  {
   "cell_type": "code",
   "execution_count": 2,
   "metadata": {},
   "outputs": [],
   "source": [
    "with open('./testing wellek\\'s test.xlsx', 'rb') as infile:\n",
    "    data = pandas.read_excel(infile)\n",
    "\n",
    "m = len(data.iloc[0:10, 1])\n",
    "n = len(data.iloc[0:10, 2])"
   ]
  },
  {
   "cell_type": "code",
   "execution_count": 68,
   "metadata": {},
   "outputs": [
    {
     "data": {
      "text/html": [
       "<div>\n",
       "<style scoped>\n",
       "    .dataframe tbody tr th:only-of-type {\n",
       "        vertical-align: middle;\n",
       "    }\n",
       "\n",
       "    .dataframe tbody tr th {\n",
       "        vertical-align: top;\n",
       "    }\n",
       "\n",
       "    .dataframe thead th {\n",
       "        text-align: right;\n",
       "    }\n",
       "</style>\n",
       "<table border=\"1\" class=\"dataframe\">\n",
       "  <thead>\n",
       "    <tr style=\"text-align: right;\">\n",
       "      <th></th>\n",
       "      <th>Ai1</th>\n",
       "      <th>Ai2</th>\n",
       "      <th>Ai1-Ai2</th>\n",
       "      <th>Ai1/Ai2</th>\n",
       "      <th>Xi=log(Ai1/Ai2)</th>\n",
       "    </tr>\n",
       "  </thead>\n",
       "  <tbody>\n",
       "    <tr>\n",
       "      <th>0</th>\n",
       "      <td>106.9</td>\n",
       "      <td>112.9</td>\n",
       "      <td>-6.0</td>\n",
       "      <td>0.9469</td>\n",
       "      <td>-0.05461</td>\n",
       "    </tr>\n",
       "    <tr>\n",
       "      <th>1</th>\n",
       "      <td>131.3</td>\n",
       "      <td>124.4</td>\n",
       "      <td>6.9</td>\n",
       "      <td>1.0555</td>\n",
       "      <td>0.05398</td>\n",
       "    </tr>\n",
       "    <tr>\n",
       "      <th>2</th>\n",
       "      <td>81.4</td>\n",
       "      <td>89.5</td>\n",
       "      <td>-8.1</td>\n",
       "      <td>0.9095</td>\n",
       "      <td>0.13695</td>\n",
       "    </tr>\n",
       "    <tr>\n",
       "      <th>3</th>\n",
       "      <td>154.7</td>\n",
       "      <td>134.9</td>\n",
       "      <td>19.8</td>\n",
       "      <td>1.1468</td>\n",
       "      <td>0.02643</td>\n",
       "    </tr>\n",
       "    <tr>\n",
       "      <th>4</th>\n",
       "      <td>111.2</td>\n",
       "      <td>108.3</td>\n",
       "      <td>2.9</td>\n",
       "      <td>1.0268</td>\n",
       "      <td>-0.09486</td>\n",
       "    </tr>\n",
       "    <tr>\n",
       "      <th>5</th>\n",
       "      <td>85.8</td>\n",
       "      <td>94.0</td>\n",
       "      <td>-8.2</td>\n",
       "      <td>0.9128</td>\n",
       "      <td>-0.09128</td>\n",
       "    </tr>\n",
       "    <tr>\n",
       "      <th>6</th>\n",
       "      <td>295.2</td>\n",
       "      <td>418.6</td>\n",
       "      <td>-123.4</td>\n",
       "      <td>0.7052</td>\n",
       "      <td>-0.34926</td>\n",
       "    </tr>\n",
       "    <tr>\n",
       "      <th>7</th>\n",
       "      <td>217.0</td>\n",
       "      <td>207.0</td>\n",
       "      <td>10.0</td>\n",
       "      <td>1.0483</td>\n",
       "      <td>0.04718</td>\n",
       "    </tr>\n",
       "    <tr>\n",
       "      <th>8</th>\n",
       "      <td>252.3</td>\n",
       "      <td>239.3</td>\n",
       "      <td>13.0</td>\n",
       "      <td>1.0543</td>\n",
       "      <td>0.05290</td>\n",
       "    </tr>\n",
       "    <tr>\n",
       "      <th>9</th>\n",
       "      <td>157.9</td>\n",
       "      <td>207.3</td>\n",
       "      <td>-49.4</td>\n",
       "      <td>0.7617</td>\n",
       "      <td>-0.27221</td>\n",
       "    </tr>\n",
       "  </tbody>\n",
       "</table>\n",
       "</div>"
      ],
      "text/plain": [
       "     Ai1    Ai2  Ai1-Ai2 Ai1/Ai2  Xi=log(Ai1/Ai2)\n",
       "0  106.9  112.9     -6.0  0.9469         -0.05461\n",
       "1  131.3  124.4      6.9  1.0555          0.05398\n",
       "2   81.4   89.5     -8.1  0.9095          0.13695\n",
       "3  154.7  134.9     19.8  1.1468          0.02643\n",
       "4  111.2  108.3      2.9  1.0268         -0.09486\n",
       "5   85.8   94.0     -8.2  0.9128         -0.09128\n",
       "6  295.2  418.6   -123.4  0.7052         -0.34926\n",
       "7  217.0  207.0     10.0  1.0483          0.04718\n",
       "8  252.3  239.3     13.0  1.0543          0.05290\n",
       "9  157.9  207.3    -49.4  0.7617         -0.27221"
      ]
     },
     "execution_count": 68,
     "metadata": {},
     "output_type": "execute_result"
    }
   ],
   "source": [
    "data.iloc[0:10, 1:6]"
   ]
  },
  {
   "cell_type": "code",
   "execution_count": 55,
   "metadata": {},
   "outputs": [
    {
     "data": {
      "text/plain": [
       "(10, 5)"
      ]
     },
     "execution_count": 55,
     "metadata": {},
     "output_type": "execute_result"
    }
   ],
   "source": [
    "a, b = numpy.shape(data.iloc[0:10, 1:6].values)\n",
    "a, b"
   ]
  },
  {
   "cell_type": "code",
   "execution_count": 71,
   "metadata": {},
   "outputs": [
    {
     "name": "stdout",
     "output_type": "stream",
     "text": [
      "106.9\n",
      "112.9\n",
      "-6.0\n",
      "0.9469\n",
      "-0.05461\n",
      "131.3\n",
      "124.4\n",
      "6.90000000000001\n",
      "1.0555\n",
      "0.05398\n",
      "81.4\n",
      "89.5\n",
      "-8.09999999999999\n",
      "0.9095\n",
      "0.13695\n",
      "154.7\n",
      "134.9\n",
      "19.8\n",
      "1.1468\n",
      "0.02643\n",
      "111.2\n",
      "108.3\n",
      "2.90000000000001\n",
      "1.0268\n",
      "-0.09486\n",
      "85.8\n",
      "94.0\n",
      "-8.2\n",
      "0.9128\n",
      "-0.09128\n",
      "295.2\n",
      "418.6\n",
      "-123.4\n",
      "0.7052\n",
      "-0.34926\n",
      "217.0\n",
      "207.0\n",
      "10.0\n",
      "1.0483\n",
      "0.04718\n",
      "252.3\n",
      "239.3\n",
      "13.0\n",
      "1.0543\n",
      "0.0529\n",
      "157.9\n",
      "207.3\n",
      "-49.4\n",
      "0.7617\n",
      "-0.27221\n"
     ]
    }
   ],
   "source": [
    "data.iloc[0:10, 1:6].values.reshape((1,50))[0]"
   ]
  },
  {
   "cell_type": "code",
   "execution_count": 5,
   "metadata": {},
   "outputs": [
    {
     "data": {
      "text/html": [
       "<div>\n",
       "<style scoped>\n",
       "    .dataframe tbody tr th:only-of-type {\n",
       "        vertical-align: middle;\n",
       "    }\n",
       "\n",
       "    .dataframe tbody tr th {\n",
       "        vertical-align: top;\n",
       "    }\n",
       "\n",
       "    .dataframe thead th {\n",
       "        text-align: right;\n",
       "    }\n",
       "</style>\n",
       "<table border=\"1\" class=\"dataframe\">\n",
       "  <thead>\n",
       "    <tr style=\"text-align: right;\">\n",
       "      <th></th>\n",
       "      <th>Ai1</th>\n",
       "      <th>Ai2</th>\n",
       "      <th>Ai1-Ai2</th>\n",
       "      <th>Ai1/Ai2</th>\n",
       "      <th>Xi=log(Ai1/Ai2)</th>\n",
       "    </tr>\n",
       "  </thead>\n",
       "  <tbody>\n",
       "    <tr>\n",
       "      <th>0</th>\n",
       "      <td>217.3</td>\n",
       "      <td>195.2</td>\n",
       "      <td>22.1</td>\n",
       "      <td>1.1132</td>\n",
       "      <td>0.10725</td>\n",
       "    </tr>\n",
       "    <tr>\n",
       "      <th>1</th>\n",
       "      <td>174.4</td>\n",
       "      <td>122.7</td>\n",
       "      <td>51.7</td>\n",
       "      <td>1.4214</td>\n",
       "      <td>0.35161</td>\n",
       "    </tr>\n",
       "    <tr>\n",
       "      <th>2</th>\n",
       "      <td>155.8</td>\n",
       "      <td>188.2</td>\n",
       "      <td>-32.4</td>\n",
       "      <td>0.8278</td>\n",
       "      <td>-0.18893</td>\n",
       "    </tr>\n",
       "    <tr>\n",
       "      <th>3</th>\n",
       "      <td>299.5</td>\n",
       "      <td>309.2</td>\n",
       "      <td>-9.7</td>\n",
       "      <td>0.9686</td>\n",
       "      <td>-0.03187</td>\n",
       "    </tr>\n",
       "    <tr>\n",
       "      <th>4</th>\n",
       "      <td>157.6</td>\n",
       "      <td>153.5</td>\n",
       "      <td>4.1</td>\n",
       "      <td>1.0267</td>\n",
       "      <td>0.02636</td>\n",
       "    </tr>\n",
       "    <tr>\n",
       "      <th>5</th>\n",
       "      <td>121.4</td>\n",
       "      <td>104.7</td>\n",
       "      <td>16.7</td>\n",
       "      <td>1.1595</td>\n",
       "      <td>0.14799</td>\n",
       "    </tr>\n",
       "    <tr>\n",
       "      <th>6</th>\n",
       "      <td>143.9</td>\n",
       "      <td>119.3</td>\n",
       "      <td>24.6</td>\n",
       "      <td>1.2062</td>\n",
       "      <td>0.18748</td>\n",
       "    </tr>\n",
       "    <tr>\n",
       "      <th>7</th>\n",
       "      <td>157.0</td>\n",
       "      <td>146.8</td>\n",
       "      <td>10.2</td>\n",
       "      <td>1.0695</td>\n",
       "      <td>0.06717</td>\n",
       "    </tr>\n",
       "    <tr>\n",
       "      <th>8</th>\n",
       "      <td>114.5</td>\n",
       "      <td>138.2</td>\n",
       "      <td>-23.7</td>\n",
       "      <td>0.8285</td>\n",
       "      <td>-0.18813</td>\n",
       "    </tr>\n",
       "    <tr>\n",
       "      <th>9</th>\n",
       "      <td>71.0</td>\n",
       "      <td>70.3</td>\n",
       "      <td>0.7</td>\n",
       "      <td>1.01</td>\n",
       "      <td>0.00991</td>\n",
       "    </tr>\n",
       "  </tbody>\n",
       "</table>\n",
       "</div>"
      ],
      "text/plain": [
       "     Ai1    Ai2  Ai1-Ai2 Ai1/Ai2  Xi=log(Ai1/Ai2)\n",
       "0  217.3  195.2     22.1  1.1132          0.10725\n",
       "1  174.4  122.7     51.7  1.4214          0.35161\n",
       "2  155.8  188.2    -32.4  0.8278         -0.18893\n",
       "3  299.5  309.2     -9.7  0.9686         -0.03187\n",
       "4  157.6  153.5      4.1  1.0267          0.02636\n",
       "5  121.4  104.7     16.7  1.1595          0.14799\n",
       "6  143.9  119.3     24.6  1.2062          0.18748\n",
       "7  157.0  146.8     10.2  1.0695          0.06717\n",
       "8  114.5  138.2    -23.7  0.8285         -0.18813\n",
       "9   71.0   70.3      0.7    1.01          0.00991"
      ]
     },
     "execution_count": 5,
     "metadata": {},
     "output_type": "execute_result"
    }
   ],
   "source": [
    "n = data.iloc[15:25, 1:6].reset_index(drop = True)\n",
    "n"
   ]
  },
  {
   "cell_type": "code",
   "execution_count": 6,
   "metadata": {},
   "outputs": [
    {
     "name": "stdout",
     "output_type": "stream",
     "text": [
      "-1.0\n",
      "-1.0\n",
      "1.0\n",
      "-1.0\n",
      "-1.0\n",
      "1.0\n",
      "-1.0\n",
      "-1.0\n",
      "-1.0\n",
      "-1.0\n",
      "1.0\n",
      "1.0\n",
      "1.0\n",
      "-1.0\n",
      "1.0\n",
      "1.0\n",
      "-1.0\n",
      "-1.0\n",
      "-1.0\n",
      "-1.0\n",
      "-1.0\n",
      "-1.0\n",
      "-1.0\n",
      "-1.0\n",
      "-1.0\n",
      "-1.0\n",
      "-1.0\n",
      "-1.0\n",
      "-1.0\n",
      "-1.0\n",
      "1.0\n",
      "1.0\n",
      "1.0\n",
      "1.0\n",
      "1.0\n",
      "1.0\n",
      "-1.0\n",
      "-1.0\n",
      "-1.0\n",
      "-1.0\n",
      "-1.0\n",
      "-1.0\n",
      "1.0\n",
      "-1.0\n",
      "1.0\n",
      "1.0\n",
      "-1.0\n",
      "-1.0\n",
      "-1.0\n",
      "-1.0\n",
      "-1.0\n",
      "-1.0\n",
      "-1.0\n",
      "-1.0\n",
      "-1.0\n",
      "-1.0\n",
      "-1.0\n",
      "-1.0\n",
      "-1.0\n",
      "-1.0\n",
      "1.0\n",
      "1.0\n",
      "1.0\n",
      "1.0\n",
      "1.0\n",
      "1.0\n",
      "-1.0\n",
      "1.0\n",
      "1.0\n",
      "1.0\n",
      "1.0\n",
      "1.0\n",
      "1.0\n",
      "1.0\n",
      "1.0\n",
      "1.0\n",
      "-1.0\n",
      "1.0\n",
      "-1.0\n",
      "1.0\n",
      "1.0\n",
      "1.0\n",
      "1.0\n",
      "1.0\n",
      "1.0\n",
      "1.0\n",
      "-1.0\n",
      "1.0\n",
      "1.0\n",
      "1.0\n",
      "1.0\n",
      "1.0\n",
      "1.0\n",
      "1.0\n",
      "1.0\n",
      "1.0\n",
      "-1.0\n",
      "-1.0\n",
      "-1.0\n",
      "-1.0\n"
     ]
    },
    {
     "data": {
      "text/html": [
       "<div>\n",
       "<style scoped>\n",
       "    .dataframe tbody tr th:only-of-type {\n",
       "        vertical-align: middle;\n",
       "    }\n",
       "\n",
       "    .dataframe tbody tr th {\n",
       "        vertical-align: top;\n",
       "    }\n",
       "\n",
       "    .dataframe thead th {\n",
       "        text-align: right;\n",
       "    }\n",
       "</style>\n",
       "<table border=\"1\" class=\"dataframe\">\n",
       "  <thead>\n",
       "    <tr style=\"text-align: right;\">\n",
       "      <th></th>\n",
       "      <th>Ai1</th>\n",
       "      <th>Ai2</th>\n",
       "      <th>Ai1-Ai2</th>\n",
       "      <th>Ai1/Ai2</th>\n",
       "      <th>Xi=log(Ai1/Ai2)</th>\n",
       "    </tr>\n",
       "  </thead>\n",
       "  <tbody>\n",
       "    <tr>\n",
       "      <th>0</th>\n",
       "      <td>0.022089</td>\n",
       "      <td>0.024590</td>\n",
       "      <td>0.217195</td>\n",
       "      <td>4.31189</td>\n",
       "      <td>44.755245</td>\n",
       "    </tr>\n",
       "    <tr>\n",
       "      <th>1</th>\n",
       "      <td>0.027523</td>\n",
       "      <td>0.039120</td>\n",
       "      <td>0.092843</td>\n",
       "      <td>3.37695</td>\n",
       "      <td>13.651489</td>\n",
       "    </tr>\n",
       "    <tr>\n",
       "      <th>2</th>\n",
       "      <td>0.030809</td>\n",
       "      <td>0.025505</td>\n",
       "      <td>-0.148148</td>\n",
       "      <td>5.7985</td>\n",
       "      <td>-25.406235</td>\n",
       "    </tr>\n",
       "    <tr>\n",
       "      <th>3</th>\n",
       "      <td>0.016027</td>\n",
       "      <td>0.015524</td>\n",
       "      <td>-0.494845</td>\n",
       "      <td>4.95561</td>\n",
       "      <td>-150.611861</td>\n",
       "    </tr>\n",
       "    <tr>\n",
       "      <th>4</th>\n",
       "      <td>0.030457</td>\n",
       "      <td>0.031270</td>\n",
       "      <td>1.170732</td>\n",
       "      <td>4.67517</td>\n",
       "      <td>182.094082</td>\n",
       "    </tr>\n",
       "    <tr>\n",
       "      <th>5</th>\n",
       "      <td>0.039539</td>\n",
       "      <td>0.045845</td>\n",
       "      <td>0.287425</td>\n",
       "      <td>4.13972</td>\n",
       "      <td>32.434624</td>\n",
       "    </tr>\n",
       "    <tr>\n",
       "      <th>6</th>\n",
       "      <td>0.033356</td>\n",
       "      <td>0.040235</td>\n",
       "      <td>0.195122</td>\n",
       "      <td>3.97944</td>\n",
       "      <td>25.602731</td>\n",
       "    </tr>\n",
       "    <tr>\n",
       "      <th>7</th>\n",
       "      <td>0.030573</td>\n",
       "      <td>0.032698</td>\n",
       "      <td>0.470588</td>\n",
       "      <td>4.48808</td>\n",
       "      <td>71.460473</td>\n",
       "    </tr>\n",
       "    <tr>\n",
       "      <th>8</th>\n",
       "      <td>0.041921</td>\n",
       "      <td>0.034732</td>\n",
       "      <td>-0.202532</td>\n",
       "      <td>5.7936</td>\n",
       "      <td>-25.514272</td>\n",
       "    </tr>\n",
       "    <tr>\n",
       "      <th>9</th>\n",
       "      <td>0.067606</td>\n",
       "      <td>0.068279</td>\n",
       "      <td>6.857143</td>\n",
       "      <td>4.75248</td>\n",
       "      <td>484.359233</td>\n",
       "    </tr>\n",
       "  </tbody>\n",
       "</table>\n",
       "</div>"
      ],
      "text/plain": [
       "        Ai1       Ai2   Ai1-Ai2  Ai1/Ai2  Xi=log(Ai1/Ai2)\n",
       "0  0.022089  0.024590  0.217195  4.31189        44.755245\n",
       "1  0.027523  0.039120  0.092843  3.37695        13.651489\n",
       "2  0.030809  0.025505 -0.148148   5.7985       -25.406235\n",
       "3  0.016027  0.015524 -0.494845  4.95561      -150.611861\n",
       "4  0.030457  0.031270  1.170732  4.67517       182.094082\n",
       "5  0.039539  0.045845  0.287425  4.13972        32.434624\n",
       "6  0.033356  0.040235  0.195122  3.97944        25.602731\n",
       "7  0.030573  0.032698  0.470588  4.48808        71.460473\n",
       "8  0.041921  0.034732 -0.202532   5.7936       -25.514272\n",
       "9  0.067606  0.068279  6.857143  4.75248       484.359233"
      ]
     },
     "execution_count": 6,
     "metadata": {},
     "output_type": "execute_result"
    }
   ],
   "source": [
    "y = 0\n",
    "for xi in data.iloc[0:10, 1]:\n",
    "    for xj in data.iloc[0:10, 2]:\n",
    "        diff = (xi - xj)\n",
    "        print(numpy.sign(diff))\n",
    "        if diff > 0:\n",
    "            y += 1\n",
    "\n",
    "y = y/(m*n)\n",
    "y"
   ]
  },
  {
   "cell_type": "code",
   "execution_count": 7,
   "metadata": {},
   "outputs": [],
   "source": [
    "from scipy.special import comb"
   ]
  },
  {
   "cell_type": "code",
   "execution_count": 8,
   "metadata": {},
   "outputs": [
    {
     "data": {
      "text/html": [
       "<div>\n",
       "<style scoped>\n",
       "    .dataframe tbody tr th:only-of-type {\n",
       "        vertical-align: middle;\n",
       "    }\n",
       "\n",
       "    .dataframe tbody tr th {\n",
       "        vertical-align: top;\n",
       "    }\n",
       "\n",
       "    .dataframe thead th {\n",
       "        text-align: right;\n",
       "    }\n",
       "</style>\n",
       "<table border=\"1\" class=\"dataframe\">\n",
       "  <thead>\n",
       "    <tr style=\"text-align: right;\">\n",
       "      <th></th>\n",
       "      <th>Ai1</th>\n",
       "      <th>Ai2</th>\n",
       "      <th>Ai1-Ai2</th>\n",
       "      <th>Ai1/Ai2</th>\n",
       "      <th>Xi=log(Ai1/Ai2)</th>\n",
       "    </tr>\n",
       "  </thead>\n",
       "  <tbody>\n",
       "    <tr>\n",
       "      <th>0</th>\n",
       "      <td>0.024748</td>\n",
       "      <td>0.027550</td>\n",
       "      <td>0.243338</td>\n",
       "      <td>4.83092</td>\n",
       "      <td>50.142450</td>\n",
       "    </tr>\n",
       "    <tr>\n",
       "      <th>1</th>\n",
       "      <td>0.030836</td>\n",
       "      <td>0.043829</td>\n",
       "      <td>0.104019</td>\n",
       "      <td>3.78344</td>\n",
       "      <td>15.294724</td>\n",
       "    </tr>\n",
       "    <tr>\n",
       "      <th>2</th>\n",
       "      <td>0.034517</td>\n",
       "      <td>0.028575</td>\n",
       "      <td>-0.165981</td>\n",
       "      <td>6.49647</td>\n",
       "      <td>-28.464393</td>\n",
       "    </tr>\n",
       "    <tr>\n",
       "      <th>3</th>\n",
       "      <td>0.017956</td>\n",
       "      <td>0.017393</td>\n",
       "      <td>-0.554410</td>\n",
       "      <td>5.55211</td>\n",
       "      <td>-168.741066</td>\n",
       "    </tr>\n",
       "    <tr>\n",
       "      <th>4</th>\n",
       "      <td>0.034123</td>\n",
       "      <td>0.035034</td>\n",
       "      <td>1.311653</td>\n",
       "      <td>5.23793</td>\n",
       "      <td>204.012814</td>\n",
       "    </tr>\n",
       "    <tr>\n",
       "      <th>5</th>\n",
       "      <td>0.044298</td>\n",
       "      <td>0.051364</td>\n",
       "      <td>0.322023</td>\n",
       "      <td>4.63801</td>\n",
       "      <td>36.338792</td>\n",
       "    </tr>\n",
       "    <tr>\n",
       "      <th>6</th>\n",
       "      <td>0.037372</td>\n",
       "      <td>0.045078</td>\n",
       "      <td>0.218609</td>\n",
       "      <td>4.45845</td>\n",
       "      <td>28.684541</td>\n",
       "    </tr>\n",
       "    <tr>\n",
       "      <th>7</th>\n",
       "      <td>0.034253</td>\n",
       "      <td>0.036633</td>\n",
       "      <td>0.527233</td>\n",
       "      <td>5.02831</td>\n",
       "      <td>80.062197</td>\n",
       "    </tr>\n",
       "    <tr>\n",
       "      <th>8</th>\n",
       "      <td>0.046967</td>\n",
       "      <td>0.038913</td>\n",
       "      <td>-0.226910</td>\n",
       "      <td>6.49098</td>\n",
       "      <td>-28.585434</td>\n",
       "    </tr>\n",
       "    <tr>\n",
       "      <th>9</th>\n",
       "      <td>0.075743</td>\n",
       "      <td>0.076498</td>\n",
       "      <td>7.682540</td>\n",
       "      <td>5.32453</td>\n",
       "      <td>542.661733</td>\n",
       "    </tr>\n",
       "  </tbody>\n",
       "</table>\n",
       "</div>"
      ],
      "text/plain": [
       "        Ai1       Ai2   Ai1-Ai2  Ai1/Ai2  Xi=log(Ai1/Ai2)\n",
       "0  0.024748  0.027550  0.243338  4.83092        50.142450\n",
       "1  0.030836  0.043829  0.104019  3.78344        15.294724\n",
       "2  0.034517  0.028575 -0.165981  6.49647       -28.464393\n",
       "3  0.017956  0.017393 -0.554410  5.55211      -168.741066\n",
       "4  0.034123  0.035034  1.311653  5.23793       204.012814\n",
       "5  0.044298  0.051364  0.322023  4.63801        36.338792\n",
       "6  0.037372  0.045078  0.218609  4.45845        28.684541\n",
       "7  0.034253  0.036633  0.527233  5.02831        80.062197\n",
       "8  0.046967  0.038913 -0.226910  6.49098       -28.585434\n",
       "9  0.075743  0.076498  7.682540  5.32453       542.661733"
      ]
     },
     "execution_count": 8,
     "metadata": {},
     "output_type": "execute_result"
    }
   ],
   "source": [
    "yFFG = 0\n",
    "for xi1 in data.iloc[0:10 - 1, 1]:\n",
    "    for xi2 in data.iloc[0 + 1:10, 1]:\n",
    "        for yj in data.iloc[0:10, 2]:\n",
    "            diff1 = (xi1 - yj)\n",
    "            diff2 = (xi2 - yj)\n",
    "            if diff1 > 0 and diff2 > 0:\n",
    "                yFFG += 1\n",
    "\n",
    "yFFG = comb(m,2)**-1 * (1/n) * yFFG\n",
    "yFFG"
   ]
  },
  {
   "cell_type": "code",
   "execution_count": 9,
   "metadata": {},
   "outputs": [
    {
     "ename": "TypeError",
     "evalue": "ufunc 'binom' not supported for the input types, and the inputs could not be safely coerced to any supported types according to the casting rule ''safe''",
     "output_type": "error",
     "traceback": [
      "\u001b[0;31m---------------------------------------------------------------------------\u001b[0m",
      "\u001b[0;31mTypeError\u001b[0m                                 Traceback (most recent call last)",
      "\u001b[0;32m<ipython-input-9-da5e32104807>\u001b[0m in \u001b[0;36m<module>\u001b[0;34m\u001b[0m\n\u001b[1;32m      8\u001b[0m                 \u001b[0myFGG\u001b[0m \u001b[0;34m+=\u001b[0m \u001b[0;36m1\u001b[0m\u001b[0;34m\u001b[0m\u001b[0;34m\u001b[0m\u001b[0m\n\u001b[1;32m      9\u001b[0m \u001b[0;34m\u001b[0m\u001b[0m\n\u001b[0;32m---> 10\u001b[0;31m \u001b[0myFGG\u001b[0m \u001b[0;34m=\u001b[0m \u001b[0;34m(\u001b[0m\u001b[0;36m1\u001b[0m\u001b[0;34m/\u001b[0m\u001b[0mm\u001b[0m\u001b[0;34m)\u001b[0m \u001b[0;34m*\u001b[0m \u001b[0mcomb\u001b[0m\u001b[0;34m(\u001b[0m\u001b[0mn\u001b[0m\u001b[0;34m,\u001b[0m\u001b[0;36m2\u001b[0m\u001b[0;34m)\u001b[0m\u001b[0;34m**\u001b[0m\u001b[0;34m-\u001b[0m\u001b[0;36m1\u001b[0m \u001b[0;34m*\u001b[0m \u001b[0myFGG\u001b[0m\u001b[0;34m\u001b[0m\u001b[0;34m\u001b[0m\u001b[0m\n\u001b[0m\u001b[1;32m     11\u001b[0m \u001b[0myFGG\u001b[0m\u001b[0;34m\u001b[0m\u001b[0;34m\u001b[0m\u001b[0m\n",
      "\u001b[0;32m/usr/local/lib/python3.6/dist-packages/scipy/special/basic.py\u001b[0m in \u001b[0;36mcomb\u001b[0;34m(N, k, exact, repetition)\u001b[0m\n\u001b[1;32m   1848\u001b[0m         \u001b[0mk\u001b[0m\u001b[0;34m,\u001b[0m \u001b[0mN\u001b[0m \u001b[0;34m=\u001b[0m \u001b[0masarray\u001b[0m\u001b[0;34m(\u001b[0m\u001b[0mk\u001b[0m\u001b[0;34m)\u001b[0m\u001b[0;34m,\u001b[0m \u001b[0masarray\u001b[0m\u001b[0;34m(\u001b[0m\u001b[0mN\u001b[0m\u001b[0;34m)\u001b[0m\u001b[0;34m\u001b[0m\u001b[0;34m\u001b[0m\u001b[0m\n\u001b[1;32m   1849\u001b[0m         \u001b[0mcond\u001b[0m \u001b[0;34m=\u001b[0m \u001b[0;34m(\u001b[0m\u001b[0mk\u001b[0m \u001b[0;34m<=\u001b[0m \u001b[0mN\u001b[0m\u001b[0;34m)\u001b[0m \u001b[0;34m&\u001b[0m \u001b[0;34m(\u001b[0m\u001b[0mN\u001b[0m \u001b[0;34m>=\u001b[0m \u001b[0;36m0\u001b[0m\u001b[0;34m)\u001b[0m \u001b[0;34m&\u001b[0m \u001b[0;34m(\u001b[0m\u001b[0mk\u001b[0m \u001b[0;34m>=\u001b[0m \u001b[0;36m0\u001b[0m\u001b[0;34m)\u001b[0m\u001b[0;34m\u001b[0m\u001b[0;34m\u001b[0m\u001b[0m\n\u001b[0;32m-> 1850\u001b[0;31m         \u001b[0mvals\u001b[0m \u001b[0;34m=\u001b[0m \u001b[0mbinom\u001b[0m\u001b[0;34m(\u001b[0m\u001b[0mN\u001b[0m\u001b[0;34m,\u001b[0m \u001b[0mk\u001b[0m\u001b[0;34m)\u001b[0m\u001b[0;34m\u001b[0m\u001b[0;34m\u001b[0m\u001b[0m\n\u001b[0m\u001b[1;32m   1851\u001b[0m         \u001b[0;32mif\u001b[0m \u001b[0misinstance\u001b[0m\u001b[0;34m(\u001b[0m\u001b[0mvals\u001b[0m\u001b[0;34m,\u001b[0m \u001b[0mnp\u001b[0m\u001b[0;34m.\u001b[0m\u001b[0mndarray\u001b[0m\u001b[0;34m)\u001b[0m\u001b[0;34m:\u001b[0m\u001b[0;34m\u001b[0m\u001b[0;34m\u001b[0m\u001b[0m\n\u001b[1;32m   1852\u001b[0m             \u001b[0mvals\u001b[0m\u001b[0;34m[\u001b[0m\u001b[0;34m~\u001b[0m\u001b[0mcond\u001b[0m\u001b[0;34m]\u001b[0m \u001b[0;34m=\u001b[0m \u001b[0;36m0\u001b[0m\u001b[0;34m\u001b[0m\u001b[0;34m\u001b[0m\u001b[0m\n",
      "\u001b[0;31mTypeError\u001b[0m: ufunc 'binom' not supported for the input types, and the inputs could not be safely coerced to any supported types according to the casting rule ''safe''"
     ]
    }
   ],
   "source": [
    "yFGG = 0\n",
    "for xi in data.iloc[0:10, 1]:\n",
    "    for yj1 in data.iloc[0:10 - 1, 2]:\n",
    "        for yj2 in data.iloc[0 + 1:10, 2]:\n",
    "            diff1 = (xi - yj1)\n",
    "            diff2 = (xi - yj2)\n",
    "            if diff1 > 0 and diff2 > 0:\n",
    "                yFGG += 1\n",
    "\n",
    "yFGG = (1/m) * comb(n,2)**-1 * yFGG\n",
    "yFGG"
   ]
  },
  {
   "cell_type": "code",
   "execution_count": null,
   "metadata": {},
   "outputs": [],
   "source": [
    "sigma2 = (1/(m*n)) * (y - (m + n - 1) * y**2 + (m - 1) * yFFG + (n - 1) * yFGG)\n",
    "sigma = sigma2**.5 \n",
    "sigma"
   ]
  },
  {
   "cell_type": "code",
   "execution_count": null,
   "metadata": {},
   "outputs": [],
   "source": [
    "# paper values\n",
    "e1 = .3129\n",
    "e2 = .2661"
   ]
  },
  {
   "cell_type": "code",
   "execution_count": null,
   "metadata": {},
   "outputs": [],
   "source": [
    "Z = abs(.33 - (.5 + (e2 - e1)/2)) / .11229\n",
    "Z"
   ]
  },
  {
   "cell_type": "code",
   "execution_count": null,
   "metadata": {},
   "outputs": [],
   "source": [
    "phi = (e1 + e2)/2 / .11229\n",
    "phi"
   ]
  },
  {
   "cell_type": "code",
   "execution_count": 11,
   "metadata": {},
   "outputs": [],
   "source": [
    "from scipy.stats.distributions import chi, chi2"
   ]
  },
  {
   "cell_type": "code",
   "execution_count": 12,
   "metadata": {},
   "outputs": [
    {
     "ename": "NameError",
     "evalue": "name 'phi' is not defined",
     "output_type": "error",
     "traceback": [
      "\u001b[0;31m---------------------------------------------------------------------------\u001b[0m",
      "\u001b[0;31mNameError\u001b[0m                                 Traceback (most recent call last)",
      "\u001b[0;32m<ipython-input-12-1a2fd26e1bfb>\u001b[0m in \u001b[0;36m<module>\u001b[0;34m\u001b[0m\n\u001b[0;32m----> 1\u001b[0;31m \u001b[0mCa\u001b[0m \u001b[0;34m=\u001b[0m \u001b[0mchi2\u001b[0m\u001b[0;34m.\u001b[0m\u001b[0mppf\u001b[0m\u001b[0;34m(\u001b[0m\u001b[0mq\u001b[0m \u001b[0;34m=\u001b[0m \u001b[0;36m0.05\u001b[0m\u001b[0;34m,\u001b[0m \u001b[0mdf\u001b[0m \u001b[0;34m=\u001b[0m \u001b[0;36m1\u001b[0m\u001b[0;34m,\u001b[0m \u001b[0mloc\u001b[0m \u001b[0;34m=\u001b[0m \u001b[0mphi\u001b[0m\u001b[0;34m**\u001b[0m\u001b[0;36m2\u001b[0m\u001b[0;34m)\u001b[0m\u001b[0;34m**\u001b[0m\u001b[0;36m.5\u001b[0m\u001b[0;34m\u001b[0m\u001b[0;34m\u001b[0m\u001b[0m\n\u001b[0m\u001b[1;32m      2\u001b[0m \u001b[0mCa\u001b[0m\u001b[0;34m\u001b[0m\u001b[0;34m\u001b[0m\u001b[0m\n",
      "\u001b[0;31mNameError\u001b[0m: name 'phi' is not defined"
     ]
    }
   ],
   "source": [
    "Ca = chi2.ppf(q = 0.05, df = 1, loc = phi**2)**.5\n",
    "Ca"
   ]
  },
  {
   "cell_type": "code",
   "execution_count": null,
   "metadata": {},
   "outputs": [],
   "source": [
    "Ca = chi2.ppf(q = 0.05, df = 1, loc = [[1,2],[2,2]])**.5\n",
    "Ca"
   ]
  },
  {
   "cell_type": "code",
   "execution_count": 13,
   "metadata": {},
   "outputs": [
    {
     "data": {
      "text/html": [
       "<div>\n",
       "<style scoped>\n",
       "    .dataframe tbody tr th:only-of-type {\n",
       "        vertical-align: middle;\n",
       "    }\n",
       "\n",
       "    .dataframe tbody tr th {\n",
       "        vertical-align: top;\n",
       "    }\n",
       "\n",
       "    .dataframe thead th {\n",
       "        text-align: right;\n",
       "    }\n",
       "</style>\n",
       "<table border=\"1\" class=\"dataframe\">\n",
       "  <thead>\n",
       "    <tr style=\"text-align: right;\">\n",
       "      <th></th>\n",
       "      <th>0</th>\n",
       "      <th>1</th>\n",
       "    </tr>\n",
       "  </thead>\n",
       "  <tbody>\n",
       "    <tr>\n",
       "      <th>0</th>\n",
       "      <td>1.001964</td>\n",
       "      <td>2.000983</td>\n",
       "    </tr>\n",
       "    <tr>\n",
       "      <th>1</th>\n",
       "      <td>2.000983</td>\n",
       "      <td>2.000983</td>\n",
       "    </tr>\n",
       "  </tbody>\n",
       "</table>\n",
       "</div>"
      ],
      "text/plain": [
       "          0         1\n",
       "0  1.001964  2.000983\n",
       "1  2.000983  2.000983"
      ]
     },
     "execution_count": 13,
     "metadata": {},
     "output_type": "execute_result"
    }
   ],
   "source": [
    "Ca = chi2.ppf(q = 0.05, df = 1, loc = pandas.DataFrame(data = [[1,2],[2,2]])**2)**.5\n",
    "pandas.DataFrame(data = Ca)"
   ]
  },
  {
   "cell_type": "code",
   "execution_count": 14,
   "metadata": {},
   "outputs": [
    {
     "name": "stdout",
     "output_type": "stream",
     "text": [
      "7.814727903251179\n",
      "13.165121760590482\n"
     ]
    }
   ],
   "source": [
    "# q1=cinv(.95,3);7.8147279033\n",
    "Ca = chi2.ppf(q = 0.95, df = 3)\n",
    "print(Ca)\n",
    "# a2=cinv(.95,3.5,4.5);7.504582117\n",
    "Ca = chi2.ppf(q = 0.95, df = 3.5, loc = 4.5)\n",
    "print(Ca)"
   ]
  },
  {
   "cell_type": "code",
   "execution_count": 15,
   "metadata": {},
   "outputs": [],
   "source": [
    "chi2.ppf?"
   ]
  },
  {
   "cell_type": "code",
   "execution_count": 16,
   "metadata": {},
   "outputs": [
    {
     "data": {
      "text/html": [
       "<div>\n",
       "<style scoped>\n",
       "    .dataframe tbody tr th:only-of-type {\n",
       "        vertical-align: middle;\n",
       "    }\n",
       "\n",
       "    .dataframe tbody tr th {\n",
       "        vertical-align: top;\n",
       "    }\n",
       "\n",
       "    .dataframe thead th {\n",
       "        text-align: right;\n",
       "    }\n",
       "</style>\n",
       "<table border=\"1\" class=\"dataframe\">\n",
       "  <thead>\n",
       "    <tr style=\"text-align: right;\">\n",
       "      <th></th>\n",
       "      <th>0</th>\n",
       "      <th>1</th>\n",
       "    </tr>\n",
       "  </thead>\n",
       "  <tbody>\n",
       "    <tr>\n",
       "      <th>0</th>\n",
       "      <td>1</td>\n",
       "      <td>2</td>\n",
       "    </tr>\n",
       "    <tr>\n",
       "      <th>1</th>\n",
       "      <td>2</td>\n",
       "      <td>2</td>\n",
       "    </tr>\n",
       "  </tbody>\n",
       "</table>\n",
       "</div>"
      ],
      "text/plain": [
       "   0  1\n",
       "0  1  2\n",
       "1  2  2"
      ]
     },
     "execution_count": 16,
     "metadata": {},
     "output_type": "execute_result"
    }
   ],
   "source": [
    "pandas.DataFrame(data = [[1,2],[2,2]])"
   ]
  },
  {
   "cell_type": "code",
   "execution_count": 17,
   "metadata": {},
   "outputs": [
    {
     "data": {
      "text/html": [
       "<div>\n",
       "<style scoped>\n",
       "    .dataframe tbody tr th:only-of-type {\n",
       "        vertical-align: middle;\n",
       "    }\n",
       "\n",
       "    .dataframe tbody tr th {\n",
       "        vertical-align: top;\n",
       "    }\n",
       "\n",
       "    .dataframe thead th {\n",
       "        text-align: right;\n",
       "    }\n",
       "</style>\n",
       "<table border=\"1\" class=\"dataframe\">\n",
       "  <thead>\n",
       "    <tr style=\"text-align: right;\">\n",
       "      <th></th>\n",
       "      <th>0</th>\n",
       "      <th>1</th>\n",
       "    </tr>\n",
       "  </thead>\n",
       "  <tbody>\n",
       "    <tr>\n",
       "      <th>0</th>\n",
       "      <td>1</td>\n",
       "      <td>2</td>\n",
       "    </tr>\n",
       "    <tr>\n",
       "      <th>1</th>\n",
       "      <td>2</td>\n",
       "      <td>2</td>\n",
       "    </tr>\n",
       "  </tbody>\n",
       "</table>\n",
       "</div>"
      ],
      "text/plain": [
       "   0  1\n",
       "0  1  2\n",
       "1  2  2"
      ]
     },
     "execution_count": 17,
     "metadata": {},
     "output_type": "execute_result"
    }
   ],
   "source": [
    "abs(pandas.DataFrame(data = [[1,2],[2,-2]]))"
   ]
  },
  {
   "cell_type": "code",
   "execution_count": 25,
   "metadata": {},
   "outputs": [
    {
     "data": {
      "text/plain": [
       "5.391992796908011"
      ]
     },
     "execution_count": 25,
     "metadata": {},
     "output_type": "execute_result"
    }
   ],
   "source": [
    "chi.ppf(q = 0.95, df = 1, loc = 5, scale = .2)"
   ]
  },
  {
   "cell_type": "code",
   "execution_count": 28,
   "metadata": {},
   "outputs": [],
   "source": [
    "import rpy2\n",
    "import rpy2.robjects as robjects\n",
    "from rpy2.robjects.packages import importr"
   ]
  },
  {
   "cell_type": "code",
   "execution_count": 34,
   "metadata": {},
   "outputs": [],
   "source": [
    "base = importr('base')\n",
    "utils = importr('utils')\n",
    "stats = importr('stats')"
   ]
  },
  {
   "cell_type": "code",
   "execution_count": 45,
   "metadata": {},
   "outputs": [
    {
     "name": "stderr",
     "output_type": "stream",
     "text": [
      "R[write to console]: Error in (function (p, df, ncp = 0, lower.tail = TRUE, log.p = FALSE)  : \n",
      "  Non-numeric argument to mathematical function\n",
      "\n"
     ]
    },
    {
     "ename": "RRuntimeError",
     "evalue": "Error in (function (p, df, ncp = 0, lower.tail = TRUE, log.p = FALSE)  : \n  Non-numeric argument to mathematical function\n",
     "output_type": "error",
     "traceback": [
      "\u001b[0;31m---------------------------------------------------------------------------\u001b[0m",
      "\u001b[0;31mRRuntimeError\u001b[0m                             Traceback (most recent call last)",
      "\u001b[0;32m<ipython-input-45-3ebbdcb2625c>\u001b[0m in \u001b[0;36m<module>\u001b[0;34m\u001b[0m\n\u001b[0;32m----> 1\u001b[0;31m \u001b[0ma\u001b[0m \u001b[0;34m=\u001b[0m \u001b[0mstats\u001b[0m\u001b[0;34m.\u001b[0m\u001b[0mqchisq\u001b[0m\u001b[0;34m(\u001b[0m\u001b[0;34m[\u001b[0m\u001b[0;36m0.05\u001b[0m\u001b[0;34m,\u001b[0m\u001b[0;36m0.05\u001b[0m\u001b[0;34m]\u001b[0m\u001b[0;34m,\u001b[0m\u001b[0;34m[\u001b[0m\u001b[0;36m1\u001b[0m\u001b[0;34m,\u001b[0m\u001b[0;36m1\u001b[0m\u001b[0;34m]\u001b[0m\u001b[0;34m,\u001b[0m\u001b[0;34m[\u001b[0m\u001b[0;36m5\u001b[0m\u001b[0;34m,\u001b[0m\u001b[0;36m2\u001b[0m\u001b[0;34m]\u001b[0m\u001b[0;34m)\u001b[0m\u001b[0;34m\u001b[0m\u001b[0;34m\u001b[0m\u001b[0m\n\u001b[0m\u001b[1;32m      2\u001b[0m \u001b[0ma\u001b[0m\u001b[0;34m\u001b[0m\u001b[0;34m\u001b[0m\u001b[0m\n",
      "\u001b[0;32m/usr/local/lib/python3.6/dist-packages/rpy2/robjects/functions.py\u001b[0m in \u001b[0;36m__call__\u001b[0;34m(self, *args, **kwargs)\u001b[0m\n\u001b[1;32m    190\u001b[0m                 \u001b[0mkwargs\u001b[0m\u001b[0;34m[\u001b[0m\u001b[0mr_k\u001b[0m\u001b[0;34m]\u001b[0m \u001b[0;34m=\u001b[0m \u001b[0mv\u001b[0m\u001b[0;34m\u001b[0m\u001b[0;34m\u001b[0m\u001b[0m\n\u001b[1;32m    191\u001b[0m         return (super(SignatureTranslatedFunction, self)\n\u001b[0;32m--> 192\u001b[0;31m                 .__call__(*args, **kwargs))\n\u001b[0m\u001b[1;32m    193\u001b[0m \u001b[0;34m\u001b[0m\u001b[0m\n\u001b[1;32m    194\u001b[0m \u001b[0;34m\u001b[0m\u001b[0m\n",
      "\u001b[0;32m/usr/local/lib/python3.6/dist-packages/rpy2/robjects/functions.py\u001b[0m in \u001b[0;36m__call__\u001b[0;34m(self, *args, **kwargs)\u001b[0m\n\u001b[1;32m    119\u001b[0m             \u001b[0;32melse\u001b[0m\u001b[0;34m:\u001b[0m\u001b[0;34m\u001b[0m\u001b[0;34m\u001b[0m\u001b[0m\n\u001b[1;32m    120\u001b[0m                 \u001b[0mnew_kwargs\u001b[0m\u001b[0;34m[\u001b[0m\u001b[0mk\u001b[0m\u001b[0;34m]\u001b[0m \u001b[0;34m=\u001b[0m \u001b[0mconversion\u001b[0m\u001b[0;34m.\u001b[0m\u001b[0mpy2rpy\u001b[0m\u001b[0;34m(\u001b[0m\u001b[0mv\u001b[0m\u001b[0;34m)\u001b[0m\u001b[0;34m\u001b[0m\u001b[0;34m\u001b[0m\u001b[0m\n\u001b[0;32m--> 121\u001b[0;31m         \u001b[0mres\u001b[0m \u001b[0;34m=\u001b[0m \u001b[0msuper\u001b[0m\u001b[0;34m(\u001b[0m\u001b[0mFunction\u001b[0m\u001b[0;34m,\u001b[0m \u001b[0mself\u001b[0m\u001b[0;34m)\u001b[0m\u001b[0;34m.\u001b[0m\u001b[0m__call__\u001b[0m\u001b[0;34m(\u001b[0m\u001b[0;34m*\u001b[0m\u001b[0mnew_args\u001b[0m\u001b[0;34m,\u001b[0m \u001b[0;34m**\u001b[0m\u001b[0mnew_kwargs\u001b[0m\u001b[0;34m)\u001b[0m\u001b[0;34m\u001b[0m\u001b[0;34m\u001b[0m\u001b[0m\n\u001b[0m\u001b[1;32m    122\u001b[0m         \u001b[0mres\u001b[0m \u001b[0;34m=\u001b[0m \u001b[0mconversion\u001b[0m\u001b[0;34m.\u001b[0m\u001b[0mrpy2py\u001b[0m\u001b[0;34m(\u001b[0m\u001b[0mres\u001b[0m\u001b[0;34m)\u001b[0m\u001b[0;34m\u001b[0m\u001b[0;34m\u001b[0m\u001b[0m\n\u001b[1;32m    123\u001b[0m         \u001b[0;32mreturn\u001b[0m \u001b[0mres\u001b[0m\u001b[0;34m\u001b[0m\u001b[0;34m\u001b[0m\u001b[0m\n",
      "\u001b[0;32m/usr/local/lib/python3.6/dist-packages/rpy2/rinterface_lib/conversion.py\u001b[0m in \u001b[0;36m_\u001b[0;34m(*args, **kwargs)\u001b[0m\n\u001b[1;32m     26\u001b[0m \u001b[0;32mdef\u001b[0m \u001b[0m_cdata_res_to_rinterface\u001b[0m\u001b[0;34m(\u001b[0m\u001b[0mfunction\u001b[0m\u001b[0;34m)\u001b[0m\u001b[0;34m:\u001b[0m\u001b[0;34m\u001b[0m\u001b[0;34m\u001b[0m\u001b[0m\n\u001b[1;32m     27\u001b[0m     \u001b[0;32mdef\u001b[0m \u001b[0m_\u001b[0m\u001b[0;34m(\u001b[0m\u001b[0;34m*\u001b[0m\u001b[0margs\u001b[0m\u001b[0;34m,\u001b[0m \u001b[0;34m**\u001b[0m\u001b[0mkwargs\u001b[0m\u001b[0;34m)\u001b[0m\u001b[0;34m:\u001b[0m\u001b[0;34m\u001b[0m\u001b[0;34m\u001b[0m\u001b[0m\n\u001b[0;32m---> 28\u001b[0;31m         \u001b[0mcdata\u001b[0m \u001b[0;34m=\u001b[0m \u001b[0mfunction\u001b[0m\u001b[0;34m(\u001b[0m\u001b[0;34m*\u001b[0m\u001b[0margs\u001b[0m\u001b[0;34m,\u001b[0m \u001b[0;34m**\u001b[0m\u001b[0mkwargs\u001b[0m\u001b[0;34m)\u001b[0m\u001b[0;34m\u001b[0m\u001b[0;34m\u001b[0m\u001b[0m\n\u001b[0m\u001b[1;32m     29\u001b[0m         \u001b[0;31m# TODO: test cdata is of the expected CType\u001b[0m\u001b[0;34m\u001b[0m\u001b[0;34m\u001b[0m\u001b[0;34m\u001b[0m\u001b[0m\n\u001b[1;32m     30\u001b[0m         \u001b[0;32mreturn\u001b[0m \u001b[0m_cdata_to_rinterface\u001b[0m\u001b[0;34m(\u001b[0m\u001b[0mcdata\u001b[0m\u001b[0;34m)\u001b[0m\u001b[0;34m\u001b[0m\u001b[0;34m\u001b[0m\u001b[0m\n",
      "\u001b[0;32m/usr/local/lib/python3.6/dist-packages/rpy2/rinterface.py\u001b[0m in \u001b[0;36m__call__\u001b[0;34m(self, *args, **kwargs)\u001b[0m\n\u001b[1;32m    771\u001b[0m                     error_occured))\n\u001b[1;32m    772\u001b[0m             \u001b[0;32mif\u001b[0m \u001b[0merror_occured\u001b[0m\u001b[0;34m[\u001b[0m\u001b[0;36m0\u001b[0m\u001b[0;34m]\u001b[0m\u001b[0;34m:\u001b[0m\u001b[0;34m\u001b[0m\u001b[0;34m\u001b[0m\u001b[0m\n\u001b[0;32m--> 773\u001b[0;31m                 \u001b[0;32mraise\u001b[0m \u001b[0membedded\u001b[0m\u001b[0;34m.\u001b[0m\u001b[0mRRuntimeError\u001b[0m\u001b[0;34m(\u001b[0m\u001b[0m_rinterface\u001b[0m\u001b[0;34m.\u001b[0m\u001b[0m_geterrmessage\u001b[0m\u001b[0;34m(\u001b[0m\u001b[0;34m)\u001b[0m\u001b[0;34m)\u001b[0m\u001b[0;34m\u001b[0m\u001b[0;34m\u001b[0m\u001b[0m\n\u001b[0m\u001b[1;32m    774\u001b[0m         \u001b[0;32mreturn\u001b[0m \u001b[0mres\u001b[0m\u001b[0;34m\u001b[0m\u001b[0;34m\u001b[0m\u001b[0m\n\u001b[1;32m    775\u001b[0m \u001b[0;34m\u001b[0m\u001b[0m\n",
      "\u001b[0;31mRRuntimeError\u001b[0m: Error in (function (p, df, ncp = 0, lower.tail = TRUE, log.p = FALSE)  : \n  Non-numeric argument to mathematical function\n"
     ]
    }
   ],
   "source": [
    "a = stats.qchisq([0.05,0.05],[1,1],[5,2])\n",
    "a"
   ]
  },
  {
   "cell_type": "code",
   "execution_count": 75,
   "metadata": {},
   "outputs": [],
   "source": [
    "a = numpy.asarray([0.05,0.05])"
   ]
  },
  {
   "cell_type": "code",
   "execution_count": 76,
   "metadata": {},
   "outputs": [
    {
     "data": {
      "text/plain": [
       "array([[0.05],\n",
       "       [0.05]])"
      ]
     },
     "execution_count": 76,
     "metadata": {},
     "output_type": "execute_result"
    }
   ],
   "source": [
    "a.reshape((2,1))"
   ]
  },
  {
   "cell_type": "code",
   "execution_count": null,
   "metadata": {},
   "outputs": [],
   "source": []
  }
 ],
 "metadata": {
  "kernelspec": {
   "display_name": "Python 3",
   "language": "python",
   "name": "python3"
  },
  "language_info": {
   "codemirror_mode": {
    "name": "ipython",
    "version": 3
   },
   "file_extension": ".py",
   "mimetype": "text/x-python",
   "name": "python",
   "nbconvert_exporter": "python",
   "pygments_lexer": "ipython3",
   "version": "3.6.7"
  }
 },
 "nbformat": 4,
 "nbformat_minor": 2
}
