{
 "cells": [
  {
   "cell_type": "code",
   "execution_count": 1,
   "metadata": {},
   "outputs": [],
   "source": [
    "import numpy\n",
    "import pandas"
   ]
  },
  {
   "cell_type": "code",
   "execution_count": 2,
   "metadata": {},
   "outputs": [],
   "source": [
    "with open('./testing wellek\\'s test.csv') as infile:\n",
    "    data = pandas.read_csv(infile, delimiter = '\\t')"
   ]
  },
  {
   "cell_type": "code",
   "execution_count": 3,
   "metadata": {},
   "outputs": [
    {
     "name": "stdout",
     "output_type": "stream",
     "text": [
      "wxy 0.67\n"
     ]
    },
    {
     "data": {
      "text/plain": [
       "0.8749482877661686"
      ]
     },
     "execution_count": 3,
     "metadata": {},
     "output_type": "execute_result"
    }
   ],
   "source": [
    "y = data.iloc[0:10,4].values\n",
    "x = data.iloc[14:24,4].values\n",
    "\n",
    "m = len(x)\n",
    "n = len(y)\n",
    "x,y,m,n\n",
    "\n",
    "wxy = 0\n",
    "for i in range(m):\n",
    "    for j in range(n):\n",
    "        diff = (x[i] - y[j])\n",
    "        # add to ŷ (wxy in mawi.R)\n",
    "        if diff > 0:\n",
    "            wxy += 1\n",
    "wxy = wxy/(m*n)\n",
    "print('wxy', wxy)\n",
    "\n",
    "pihxxy = 0\n",
    "for xi1 in range(m - 1):\n",
    "    for xi2 in range(xi1 + 1, m):\n",
    "        for xj in range(n):\n",
    "            # 1st difference\n",
    "            diff1 = (x[xi1] - y[xj])\n",
    "            # 2nd difference\n",
    "            diff2 = (x[xi2] - y[xj])\n",
    "            # add to yFGG (pihxxy in mawi.R)\n",
    "            if diff1 > 0 and diff2 > 0:\n",
    "                pihxxy += 1\n",
    "pihxxy = (pihxxy * 2) / (m * (m - 1) * n)\n",
    "pihxxy\n",
    "\n",
    "pihxyy = 0\n",
    "for xi in range(m):\n",
    "    for xj1 in range(n - 1):\n",
    "        for xj2 in range(xj1 + 1, n):\n",
    "            # 1st difference\n",
    "            diff1 = (x[xi] - y[xj1])\n",
    "            # 2nd difference\n",
    "            diff2 = (x[xi] - y[xj2])\n",
    "            # add to yFGG (pihxxy in mawi.R)\n",
    "            if diff1 > 0 and diff2 > 0:\n",
    "                pihxyy += 1\n",
    "pihxyy = (pihxyy * 2) / (n * (n - 1) * m)\n",
    "pihxyy\n",
    "\n",
    "sigmah = wxy - (wxy**2)*(m + n - 1) + pihxxy*(m - 1) + pihxyy*(n - 1)\n",
    "sigmah = sigmah/(m*n)\n",
    "sigmah = sigmah**.5\n",
    "sigmah\n",
    "\n",
    "eps1_ = .3129 # Wellek's paper\n",
    "eps2_ = .2661 # Wellek's paper\n",
    "eqctr = 0.5 + (eps2_ - eps1_)/2\n",
    "eqleng = eps1_ + eps2_\n",
    "phi = (eqleng/2/sigmah)**2\n",
    "\n",
    "phi**.5\n",
    "abs((wxy - eqctr)/(sigmah))\n",
    "\n",
    "from scipy.stats import ncx2\n",
    "ncx2.ppf(.05, 1, phi)\n",
    "ncx2.ppf(.05, 1, 2.5781**2)"
   ]
  },
  {
   "cell_type": "code",
   "execution_count": 4,
   "metadata": {},
   "outputs": [
    {
     "name": "stdout",
     "output_type": "stream",
     "text": [
      "wxy 0.33\n",
      "pihxxy 0.19111111111111112\n",
      "pihxyy 0.14222222222222222\n",
      "sigmah 0.11228980363327741\n",
      "phi 6.646859386152747\n",
      "z 1.305550417371597\n"
     ]
    },
    {
     "data": {
      "text/plain": [
       "0.8750410377010782"
      ]
     },
     "execution_count": 4,
     "metadata": {},
     "output_type": "execute_result"
    }
   ],
   "source": [
    "x = data.iloc[0:10,4].values\n",
    "y = data.iloc[14:24,4].values\n",
    "\n",
    "m = len(x)\n",
    "n = len(y)\n",
    "x,y,m,n\n",
    "\n",
    "wxy = 0\n",
    "for i in range(m):\n",
    "    for j in range(n):\n",
    "        diff = (x[i] - y[j])\n",
    "        # add to ŷ (wxy in mawi.R)\n",
    "        wxy += numpy.heaviside(diff, 0)\n",
    "wxy = wxy/(m*n)\n",
    "print('wxy', wxy)\n",
    "\n",
    "pihxxy = 0\n",
    "for xi1 in range(m - 1):\n",
    "    for xi2 in range(xi1 + 1, m):\n",
    "        for xj in range(n):\n",
    "            # 1st difference\n",
    "            diff1 = (x[xi1] - y[xj])\n",
    "            # 2nd difference\n",
    "            diff2 = (x[xi2] - y[xj])\n",
    "            # add to yFGG (pihxxy in mawi.R)\n",
    "            pihxxy += numpy.heaviside(diff1, 0) * numpy.heaviside(diff2, 0)\n",
    "pihxxy = (pihxxy * 2) / (m * (m - 1) * n)\n",
    "print('pihxxy', pihxxy)\n",
    "\n",
    "pihxyy = 0\n",
    "for xi in range(m):\n",
    "    for xj1 in range(n - 1):\n",
    "        for xj2 in range(xj1 + 1, n):\n",
    "            # 1st difference\n",
    "            diff1 = (x[xi] - y[xj1])\n",
    "            # 2nd difference\n",
    "            diff2 = (x[xi] - y[xj2])\n",
    "            # add to yFGG (pihxxy in mawi.R)\n",
    "            pihxyy += numpy.heaviside(diff1, 0) * numpy.heaviside(diff2, 0)\n",
    "pihxyy = (pihxyy * 2) / (n * (n - 1) * m)\n",
    "print('pihxyy', pihxyy)\n",
    "\n",
    "sigmah = wxy - (wxy**2)*(m + n - 1) + pihxxy*(m - 1) + pihxyy*(n - 1)\n",
    "sigmah = sigmah/(m*n)\n",
    "sigmah = sigmah**.5\n",
    "print('sigmah', sigmah)\n",
    "\n",
    "eps1_ = .3129 # Wellek's paper\n",
    "eps2_ = .2661 # Wellek's paper\n",
    "eqctr = 0.5 + (eps2_ - eps1_)/2\n",
    "eqleng = eps1_ + eps2_\n",
    "phi = (eqleng/2/sigmah)**2\n",
    "print('phi', phi)\n",
    "\n",
    "# phi**.5\n",
    "print('z', abs((wxy - eqctr)/(sigmah)))\n",
    "\n",
    "from scipy.stats import ncx2\n",
    "ncx2.ppf(.05, 1, phi)\n",
    "# ncx2.ppf(.05, 1, 2.5781**2)"
   ]
  },
  {
   "cell_type": "code",
   "execution_count": 5,
   "metadata": {},
   "outputs": [],
   "source": [
    "for val, dat in enumerate(x):\n",
    "    with open('./x_sims_' + str(val) + '.txt', 'w') as outfile:\n",
    "        outfile.write('#\\n,#\\n\"[T]\",\"prot\"\\n1.,' + str(dat) + '\\n2.,' + str(dat))"
   ]
  },
  {
   "cell_type": "code",
   "execution_count": 6,
   "metadata": {},
   "outputs": [],
   "source": [
    "for val, dat in enumerate(y):\n",
    "    with open('./y_data_' + str(val) + '.txt', 'w') as outfile:\n",
    "        outfile.write('\"[T]\",\"prot\"\\n1.,' + str(dat) + '\\n2.,' + str(dat))"
   ]
  },
  {
   "cell_type": "code",
   "execution_count": 7,
   "metadata": {},
   "outputs": [
    {
     "data": {
      "text/plain": [
       "array([-0.05461,  0.05398,  0.13695,  0.02643, -0.09486, -0.09128,\n",
       "       -0.34926,  0.04718,  0.0529 , -0.27221])"
      ]
     },
     "execution_count": 7,
     "metadata": {},
     "output_type": "execute_result"
    }
   ],
   "source": [
    "x"
   ]
  },
  {
   "cell_type": "code",
   "execution_count": 8,
   "metadata": {},
   "outputs": [
    {
     "data": {
      "text/plain": [
       "array([ 0.10725,  0.35161, -0.18893, -0.03187,  0.02636,  0.14799,\n",
       "        0.18748,  0.06717, -0.18813,  0.00991])"
      ]
     },
     "execution_count": 8,
     "metadata": {},
     "output_type": "execute_result"
    }
   ],
   "source": [
    "y"
   ]
  },
  {
   "cell_type": "code",
   "execution_count": 13,
   "metadata": {},
   "outputs": [
    {
     "data": {
      "text/plain": [
       "array([-0.16153141,  0.51689718,  0.82485348,  1.88079073,  0.14596686,\n",
       "        0.75052658, -0.30461629,  0.44423477,  1.21759282,  0.83976447,\n",
       "        0.14441561,  0.60657143,  0.29029759, -0.35331668, -0.98668225,\n",
       "       -0.73234587,  2.53805364,  0.07150216, -0.95770403,  1.37884418,\n",
       "        0.26872801,  0.05941533, -0.21610691, -0.04690926, -0.06496887,\n",
       "        0.48821366,  0.09426828,  0.54059404, -1.09826617, -1.13315112,\n",
       "       -0.29670306,  0.81590551,  0.4075118 ,  0.09937079, -1.50085668,\n",
       "       -1.13253336,  0.7162246 , -0.69784134,  0.30295901, -1.45927346])"
      ]
     },
     "execution_count": 13,
     "metadata": {},
     "output_type": "execute_result"
    }
   ],
   "source": [
    "numpy.random.normal(0, 1, 40)"
   ]
  },
  {
   "cell_type": "code",
   "execution_count": 14,
   "metadata": {},
   "outputs": [
    {
     "data": {
      "text/plain": [
       "array([-1.05406769, -2.60828722,  0.49224267,  1.60482672, -0.75918251,\n",
       "       -0.2755435 ,  0.36049076, -0.31875002,  0.1554656 , -0.51934305,\n",
       "       -1.13729509, -0.43088847, -0.5343316 , -0.54159193, -1.24268563,\n",
       "        0.81660478,  0.11672374,  0.93622193, -1.11111526, -2.00100046,\n",
       "        0.38924143,  1.77103738,  1.49857153, -0.73455776,  0.77534645,\n",
       "       -0.0481238 , -0.80264852, -0.20574817,  0.22817936, -0.57795961,\n",
       "       -2.19567051, -1.03149542,  1.41021596,  1.32868154, -2.30569814,\n",
       "        0.29320924,  0.20289409, -0.43415581,  1.65487862,  1.55974042])"
      ]
     },
     "execution_count": 14,
     "metadata": {},
     "output_type": "execute_result"
    }
   ],
   "source": [
    "numpy.random.normal(0, 1, 40)"
   ]
  },
  {
   "cell_type": "code",
   "execution_count": null,
   "metadata": {},
   "outputs": [],
   "source": []
  }
 ],
 "metadata": {
  "kernelspec": {
   "display_name": "Python 3",
   "language": "python",
   "name": "python3"
  },
  "language_info": {
   "codemirror_mode": {
    "name": "ipython",
    "version": 3
   },
   "file_extension": ".py",
   "mimetype": "text/x-python",
   "name": "python",
   "nbconvert_exporter": "python",
   "pygments_lexer": "ipython3",
   "version": "3.6.5"
  }
 },
 "nbformat": 4,
 "nbformat_minor": 2
}
