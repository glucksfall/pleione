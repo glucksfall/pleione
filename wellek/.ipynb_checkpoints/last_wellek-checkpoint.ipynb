{
 "cells": [
  {
   "cell_type": "code",
   "execution_count": 6,
   "metadata": {},
   "outputs": [],
   "source": [
    "import numpy\n",
    "import pandas"
   ]
  },
  {
   "cell_type": "code",
   "execution_count": 2,
   "metadata": {},
   "outputs": [],
   "source": [
    "with open('./testing wellek\\'s test.csv') as infile:\n",
    "    data = pandas.read_csv(infile, delimiter = '\\t')"
   ]
  },
  {
   "cell_type": "code",
   "execution_count": 7,
   "metadata": {},
   "outputs": [
    {
     "name": "stdout",
     "output_type": "stream",
     "text": [
      "wxy 0.67\n"
     ]
    },
    {
     "data": {
      "text/plain": [
       "0.8749482877661686"
      ]
     },
     "execution_count": 7,
     "metadata": {},
     "output_type": "execute_result"
    }
   ],
   "source": [
    "y = data.iloc[0:10,4].values\n",
    "x = data.iloc[14:24,4].values\n",
    "\n",
    "m = len(x)\n",
    "n = len(y)\n",
    "x,y,m,n\n",
    "\n",
    "wxy = 0\n",
    "for i in range(m):\n",
    "    for j in range(n):\n",
    "        diff = (x[i] - y[j])\n",
    "        # add to ŷ (wxy in mawi.R)\n",
    "        if diff > 0:\n",
    "            wxy += 1\n",
    "wxy = wxy/(m*n)\n",
    "print('wxy', wxy)\n",
    "\n",
    "pihxxy = 0\n",
    "for xi1 in range(m - 1):\n",
    "    for xi2 in range(xi1 + 1, m):\n",
    "        for xj in range(n):\n",
    "            # 1st difference\n",
    "            diff1 = (x[xi1] - y[xj])\n",
    "            # 2nd difference\n",
    "            diff2 = (x[xi2] - y[xj])\n",
    "            # add to yFGG (pihxxy in mawi.R)\n",
    "            if diff1 > 0 and diff2 > 0:\n",
    "                pihxxy += 1\n",
    "pihxxy = (pihxxy * 2) / (m * (m - 1) * n)\n",
    "pihxxy\n",
    "\n",
    "pihxyy = 0\n",
    "for xi in range(m):\n",
    "    for xj1 in range(n - 1):\n",
    "        for xj2 in range(xj1 + 1, n):\n",
    "            # 1st difference\n",
    "            diff1 = (x[xi] - y[xj1])\n",
    "            # 2nd difference\n",
    "            diff2 = (x[xi] - y[xj2])\n",
    "            # add to yFGG (pihxxy in mawi.R)\n",
    "            if diff1 > 0 and diff2 > 0:\n",
    "                pihxyy += 1\n",
    "pihxyy = (pihxyy * 2) / (n * (n - 1) * m)\n",
    "pihxyy\n",
    "\n",
    "sigmah = wxy - (wxy**2)*(m + n - 1) + pihxxy*(m - 1) + pihxyy*(n - 1)\n",
    "sigmah = sigmah/(m*n)\n",
    "sigmah = sigmah**.5\n",
    "sigmah\n",
    "\n",
    "eps1_ = .3129 # Wellek's paper\n",
    "eps2_ = .2661 # Wellek's paper\n",
    "eqctr = 0.5 + (eps2_ - eps1_)/2\n",
    "eqleng = eps1_ + eps2_\n",
    "phi = (eqleng/2/sigmah)**2\n",
    "\n",
    "phi**.5\n",
    "abs((wxy - eqctr)/(sigmah))\n",
    "\n",
    "from scipy.stats import ncx2\n",
    "ncx2.ppf(.05, 1, phi)\n",
    "ncx2.ppf(.05, 1, 2.5781**2)"
   ]
  },
  {
   "cell_type": "code",
   "execution_count": 10,
   "metadata": {},
   "outputs": [
    {
     "name": "stdout",
     "output_type": "stream",
     "text": [
      "wxy 0.67\n"
     ]
    },
    {
     "data": {
      "text/plain": [
       "0.8749482877661686"
      ]
     },
     "execution_count": 10,
     "metadata": {},
     "output_type": "execute_result"
    }
   ],
   "source": [
    "y = data.iloc[0:10,4].values\n",
    "x = data.iloc[14:24,4].values\n",
    "\n",
    "m = len(x)\n",
    "n = len(y)\n",
    "x,y,m,n\n",
    "\n",
    "wxy = 0\n",
    "for i in range(m):\n",
    "    for j in range(n):\n",
    "        diff = (x[i] - y[j])\n",
    "        # add to ŷ (wxy in mawi.R)\n",
    "        wxy += numpy.heaviside(diff, 0)\n",
    "wxy = wxy/(m*n)\n",
    "print('wxy', wxy)\n",
    "\n",
    "pihxxy = 0\n",
    "for xi1 in range(m - 1):\n",
    "    for xi2 in range(xi1 + 1, m):\n",
    "        for xj in range(n):\n",
    "            # 1st difference\n",
    "            diff1 = (x[xi1] - y[xj])\n",
    "            # 2nd difference\n",
    "            diff2 = (x[xi2] - y[xj])\n",
    "            # add to yFGG (pihxxy in mawi.R)\n",
    "            pihxxy += numpy.heaviside(diff1, 0) * numpy.heaviside(diff2, 0)\n",
    "pihxxy = (pihxxy * 2) / (m * (m - 1) * n)\n",
    "pihxxy\n",
    "\n",
    "pihxyy = 0\n",
    "for xi in range(m):\n",
    "    for xj1 in range(n - 1):\n",
    "        for xj2 in range(xj1 + 1, n):\n",
    "            # 1st difference\n",
    "            diff1 = (x[xi] - y[xj1])\n",
    "            # 2nd difference\n",
    "            diff2 = (x[xi] - y[xj2])\n",
    "            # add to yFGG (pihxxy in mawi.R)\n",
    "            pihxyy += numpy.heaviside(diff1, 0) * numpy.heaviside(diff2, 0)\n",
    "pihxyy = (pihxyy * 2) / (n * (n - 1) * m)\n",
    "pihxyy\n",
    "\n",
    "sigmah = wxy - (wxy**2)*(m + n - 1) + pihxxy*(m - 1) + pihxyy*(n - 1)\n",
    "sigmah = sigmah/(m*n)\n",
    "sigmah = sigmah**.5\n",
    "sigmah\n",
    "\n",
    "eps1_ = .3129 # Wellek's paper\n",
    "eps2_ = .2661 # Wellek's paper\n",
    "eqctr = 0.5 + (eps2_ - eps1_)/2\n",
    "eqleng = eps1_ + eps2_\n",
    "phi = (eqleng/2/sigmah)**2\n",
    "\n",
    "phi**.5\n",
    "abs((wxy - eqctr)/(sigmah))\n",
    "\n",
    "from scipy.stats import ncx2\n",
    "ncx2.ppf(.05, 1, phi)\n",
    "ncx2.ppf(.05, 1, 2.5781**2)"
   ]
  },
  {
   "cell_type": "code",
   "execution_count": 33,
   "metadata": {},
   "outputs": [],
   "source": [
    "for val, dat in enumerate(y):\n",
    "    with open('./cond2_' + str(val) + '.txt', 'w') as outfile:\n",
    "        outfile.write('#\\n,#\\n\"[T]\",\"prot\"\\n1.,' + str(dat) + '\\n2.,' + str(dat))"
   ]
  },
  {
   "cell_type": "code",
   "execution_count": 32,
   "metadata": {},
   "outputs": [],
   "source": [
    "for val, dat in enumerate(x):\n",
    "    with open('./cond1_' + str(val) + '.txt', 'w') as outfile:\n",
    "        outfile.write('\"[T]\",\"prot\"\\n1.,' + str(dat) + '\\n2.,' + str(dat))"
   ]
  },
  {
   "cell_type": "code",
   "execution_count": null,
   "metadata": {},
   "outputs": [],
   "source": []
  }
 ],
 "metadata": {
  "kernelspec": {
   "display_name": "Python 3",
   "language": "python",
   "name": "python3"
  },
  "language_info": {
   "codemirror_mode": {
    "name": "ipython",
    "version": 3
   },
   "file_extension": ".py",
   "mimetype": "text/x-python",
   "name": "python",
   "nbconvert_exporter": "python",
   "pygments_lexer": "ipython3",
   "version": "3.6.5"
  }
 },
 "nbformat": 4,
 "nbformat_minor": 2
}
