{
 "cells": [
  {
   "cell_type": "code",
   "execution_count": 1,
   "metadata": {},
   "outputs": [],
   "source": [
    "import pandas"
   ]
  },
  {
   "cell_type": "code",
   "execution_count": 2,
   "metadata": {},
   "outputs": [],
   "source": [
    "with open('./testing wellek\\'s test.csv') as infile:\n",
    "    data = pandas.read_csv(infile, delimiter = '\\t')"
   ]
  },
  {
   "cell_type": "code",
   "execution_count": 68,
   "metadata": {},
   "outputs": [],
   "source": [
    "y = data.iloc[0:10,4].values"
   ]
  },
  {
   "cell_type": "code",
   "execution_count": 69,
   "metadata": {},
   "outputs": [],
   "source": [
    "x = data.iloc[14:24,4].values"
   ]
  },
  {
   "cell_type": "code",
   "execution_count": 70,
   "metadata": {},
   "outputs": [],
   "source": [
    "m = len(x)"
   ]
  },
  {
   "cell_type": "code",
   "execution_count": 71,
   "metadata": {},
   "outputs": [],
   "source": [
    "n = len(y)"
   ]
  },
  {
   "cell_type": "code",
   "execution_count": 72,
   "metadata": {},
   "outputs": [
    {
     "data": {
      "text/plain": [
       "(array([ 0.10725,  0.35161, -0.18893, -0.03187,  0.02636,  0.14799,\n",
       "         0.18748,  0.06717, -0.18813,  0.00991]),\n",
       " array([-0.05461,  0.05398,  0.13695,  0.02643, -0.09486, -0.09128,\n",
       "        -0.34926,  0.04718,  0.0529 , -0.27221]),\n",
       " 10,\n",
       " 10)"
      ]
     },
     "execution_count": 72,
     "metadata": {},
     "output_type": "execute_result"
    }
   ],
   "source": [
    "x,y,m,n"
   ]
  },
  {
   "cell_type": "code",
   "execution_count": 73,
   "metadata": {},
   "outputs": [
    {
     "data": {
      "text/plain": [
       "0.67"
      ]
     },
     "execution_count": 73,
     "metadata": {},
     "output_type": "execute_result"
    }
   ],
   "source": [
    "wxy = 0\n",
    "for i in range(m):\n",
    "    for j in range(n):\n",
    "        diff = (x[i] - y[j])\n",
    "        # add to ŷ (wxy in mawi.R)\n",
    "        if diff > 0:\n",
    "            wxy += 1\n",
    "wxy = wxy/(m*n)\n",
    "wxy"
   ]
  },
  {
   "cell_type": "code",
   "execution_count": 74,
   "metadata": {},
   "outputs": [
    {
     "data": {
      "text/plain": [
       "0.4822222222222222"
      ]
     },
     "execution_count": 74,
     "metadata": {},
     "output_type": "execute_result"
    }
   ],
   "source": [
    "pihxxy = 0\n",
    "for xi1 in range(m - 1):\n",
    "    for xi2 in range(xi1 + 1, m):\n",
    "        for xj in range(n):\n",
    "            # 1st difference\n",
    "            diff1 = (x[xi1] - y[xj])\n",
    "            # 2nd difference\n",
    "            diff2 = (x[xi2] - y[xj])\n",
    "            # add to yFGG (pihxxy in mawi.R)\n",
    "            if diff1 > 0 and diff2 > 0:\n",
    "                pihxxy += 1\n",
    "pihxxy = (pihxxy * 2) / (m * (m - 1) * n)\n",
    "pihxxy"
   ]
  },
  {
   "cell_type": "code",
   "execution_count": 75,
   "metadata": {},
   "outputs": [
    {
     "data": {
      "text/plain": [
       "0.5311111111111111"
      ]
     },
     "execution_count": 75,
     "metadata": {},
     "output_type": "execute_result"
    }
   ],
   "source": [
    "pihxyy = 0\n",
    "for xi in range(m):\n",
    "    for xj1 in range(n - 1):\n",
    "        for xj2 in range(xj1 + 1, n):\n",
    "            # 1st difference\n",
    "            diff1 = (x[xi] - y[xj1])\n",
    "            # 2nd difference\n",
    "            diff2 = (x[xi] - y[xj2])\n",
    "            # add to yFGG (pihxxy in mawi.R)\n",
    "            if diff1 > 0 and diff2 > 0:\n",
    "                pihxyy += 1\n",
    "pihxyy = (pihxyy * 2) / (n * (n - 1) * m)\n",
    "pihxyy"
   ]
  },
  {
   "cell_type": "code",
   "execution_count": 76,
   "metadata": {},
   "outputs": [
    {
     "data": {
      "text/plain": [
       "0.1122898036332773"
      ]
     },
     "execution_count": 76,
     "metadata": {},
     "output_type": "execute_result"
    }
   ],
   "source": [
    "sigmah = wxy - (wxy**2)*(m + n - 1) + pihxxy*(m - 1) + pihxyy*(n - 1)\n",
    "sigmah = sigmah/(m*n)\n",
    "sigmah = sigmah**.5\n",
    "sigmah"
   ]
  },
  {
   "cell_type": "code",
   "execution_count": 77,
   "metadata": {},
   "outputs": [],
   "source": [
    "eps1_ = .3129 # Wellek's paper\n",
    "eps2_ = .2661 # Wellek's paper\n",
    "eqctr = 0.5 + (eps2_ - eps1_)/2\n",
    "eqleng = eps1_ + eps2_\n",
    "phi = (eqleng/2/sigmah)**2"
   ]
  },
  {
   "cell_type": "code",
   "execution_count": 78,
   "metadata": {},
   "outputs": [
    {
     "data": {
      "text/plain": [
       "2.578150380825905"
      ]
     },
     "execution_count": 78,
     "metadata": {},
     "output_type": "execute_result"
    }
   ],
   "source": [
    "phi**.5"
   ]
  },
  {
   "cell_type": "code",
   "execution_count": 79,
   "metadata": {},
   "outputs": [
    {
     "data": {
      "text/plain": [
       "1.7223291317849054"
      ]
     },
     "execution_count": 79,
     "metadata": {},
     "output_type": "execute_result"
    }
   ],
   "source": [
    "abs((wxy - eqctr)/(sigmah))"
   ]
  },
  {
   "cell_type": "code",
   "execution_count": 80,
   "metadata": {},
   "outputs": [],
   "source": [
    "from scipy.stats import ncx2"
   ]
  },
  {
   "cell_type": "code",
   "execution_count": 81,
   "metadata": {},
   "outputs": [
    {
     "data": {
      "text/plain": [
       "0.875041037701083"
      ]
     },
     "execution_count": 81,
     "metadata": {},
     "output_type": "execute_result"
    }
   ],
   "source": [
    "ncx2.ppf(.05, 1, phi)"
   ]
  },
  {
   "cell_type": "code",
   "execution_count": 82,
   "metadata": {},
   "outputs": [
    {
     "data": {
      "text/plain": [
       "0.8749482877661686"
      ]
     },
     "execution_count": 82,
     "metadata": {},
     "output_type": "execute_result"
    }
   ],
   "source": [
    "ncx2.ppf(.05, 1, 2.5781**2)"
   ]
  },
  {
   "cell_type": "code",
   "execution_count": null,
   "metadata": {},
   "outputs": [],
   "source": []
  }
 ],
 "metadata": {
  "kernelspec": {
   "display_name": "Python 3",
   "language": "python",
   "name": "python3"
  },
  "language_info": {
   "codemirror_mode": {
    "name": "ipython",
    "version": 3
   },
   "file_extension": ".py",
   "mimetype": "text/x-python",
   "name": "python",
   "nbconvert_exporter": "python",
   "pygments_lexer": "ipython3",
   "version": "3.6.8"
  }
 },
 "nbformat": 4,
 "nbformat_minor": 2
}
