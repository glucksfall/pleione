{
 "cells": [
  {
   "cell_type": "code",
   "execution_count": 1,
   "metadata": {},
   "outputs": [],
   "source": [
    "import pandas\n",
    "import numpy"
   ]
  },
  {
   "cell_type": "code",
   "execution_count": 2,
   "metadata": {},
   "outputs": [],
   "source": [
    "with open('./testing wellek\\'s test.xlsx', 'rb') as infile:\n",
    "    data = pandas.read_excel(infile)\n",
    "\n",
    "m = len(data.iloc[0:10, 1])\n",
    "n = len(data.iloc[0:10, 2])"
   ]
  },
  {
   "cell_type": "code",
   "execution_count": 3,
   "metadata": {},
   "outputs": [
    {
     "data": {
      "text/html": [
       "<div>\n",
       "<style scoped>\n",
       "    .dataframe tbody tr th:only-of-type {\n",
       "        vertical-align: middle;\n",
       "    }\n",
       "\n",
       "    .dataframe tbody tr th {\n",
       "        vertical-align: top;\n",
       "    }\n",
       "\n",
       "    .dataframe thead th {\n",
       "        text-align: right;\n",
       "    }\n",
       "</style>\n",
       "<table border=\"1\" class=\"dataframe\">\n",
       "  <thead>\n",
       "    <tr style=\"text-align: right;\">\n",
       "      <th></th>\n",
       "      <th>Ai1</th>\n",
       "      <th>Ai2</th>\n",
       "      <th>Ai1-Ai2</th>\n",
       "      <th>Ai1/Ai2</th>\n",
       "      <th>Xi=log(Ai1/Ai2)</th>\n",
       "    </tr>\n",
       "  </thead>\n",
       "  <tbody>\n",
       "    <tr>\n",
       "      <th>0</th>\n",
       "      <td>106.9</td>\n",
       "      <td>112.9</td>\n",
       "      <td>-6.0</td>\n",
       "      <td>0.9469</td>\n",
       "      <td>-0.05461</td>\n",
       "    </tr>\n",
       "    <tr>\n",
       "      <th>1</th>\n",
       "      <td>131.3</td>\n",
       "      <td>124.4</td>\n",
       "      <td>6.9</td>\n",
       "      <td>1.0555</td>\n",
       "      <td>0.05398</td>\n",
       "    </tr>\n",
       "    <tr>\n",
       "      <th>2</th>\n",
       "      <td>81.4</td>\n",
       "      <td>89.5</td>\n",
       "      <td>-8.1</td>\n",
       "      <td>0.9095</td>\n",
       "      <td>0.13695</td>\n",
       "    </tr>\n",
       "    <tr>\n",
       "      <th>3</th>\n",
       "      <td>154.7</td>\n",
       "      <td>134.9</td>\n",
       "      <td>19.8</td>\n",
       "      <td>1.1468</td>\n",
       "      <td>0.02643</td>\n",
       "    </tr>\n",
       "    <tr>\n",
       "      <th>4</th>\n",
       "      <td>111.2</td>\n",
       "      <td>108.3</td>\n",
       "      <td>2.9</td>\n",
       "      <td>1.0268</td>\n",
       "      <td>-0.09486</td>\n",
       "    </tr>\n",
       "    <tr>\n",
       "      <th>5</th>\n",
       "      <td>85.8</td>\n",
       "      <td>94.0</td>\n",
       "      <td>-8.2</td>\n",
       "      <td>0.9128</td>\n",
       "      <td>-0.09128</td>\n",
       "    </tr>\n",
       "    <tr>\n",
       "      <th>6</th>\n",
       "      <td>295.2</td>\n",
       "      <td>418.6</td>\n",
       "      <td>-123.4</td>\n",
       "      <td>0.7052</td>\n",
       "      <td>-0.34926</td>\n",
       "    </tr>\n",
       "    <tr>\n",
       "      <th>7</th>\n",
       "      <td>217.0</td>\n",
       "      <td>207.0</td>\n",
       "      <td>10.0</td>\n",
       "      <td>1.0483</td>\n",
       "      <td>0.04718</td>\n",
       "    </tr>\n",
       "    <tr>\n",
       "      <th>8</th>\n",
       "      <td>252.3</td>\n",
       "      <td>239.3</td>\n",
       "      <td>13.0</td>\n",
       "      <td>1.0543</td>\n",
       "      <td>0.05290</td>\n",
       "    </tr>\n",
       "    <tr>\n",
       "      <th>9</th>\n",
       "      <td>157.9</td>\n",
       "      <td>207.3</td>\n",
       "      <td>-49.4</td>\n",
       "      <td>0.7617</td>\n",
       "      <td>-0.27221</td>\n",
       "    </tr>\n",
       "  </tbody>\n",
       "</table>\n",
       "</div>"
      ],
      "text/plain": [
       "     Ai1    Ai2  Ai1-Ai2 Ai1/Ai2  Xi=log(Ai1/Ai2)\n",
       "0  106.9  112.9     -6.0  0.9469         -0.05461\n",
       "1  131.3  124.4      6.9  1.0555          0.05398\n",
       "2   81.4   89.5     -8.1  0.9095          0.13695\n",
       "3  154.7  134.9     19.8  1.1468          0.02643\n",
       "4  111.2  108.3      2.9  1.0268         -0.09486\n",
       "5   85.8   94.0     -8.2  0.9128         -0.09128\n",
       "6  295.2  418.6   -123.4  0.7052         -0.34926\n",
       "7  217.0  207.0     10.0  1.0483          0.04718\n",
       "8  252.3  239.3     13.0  1.0543          0.05290\n",
       "9  157.9  207.3    -49.4  0.7617         -0.27221"
      ]
     },
     "execution_count": 3,
     "metadata": {},
     "output_type": "execute_result"
    }
   ],
   "source": [
    "data.iloc[0:10, 1:6]"
   ]
  },
  {
   "cell_type": "code",
   "execution_count": 4,
   "metadata": {},
   "outputs": [
    {
     "data": {
      "text/html": [
       "<div>\n",
       "<style scoped>\n",
       "    .dataframe tbody tr th:only-of-type {\n",
       "        vertical-align: middle;\n",
       "    }\n",
       "\n",
       "    .dataframe tbody tr th {\n",
       "        vertical-align: top;\n",
       "    }\n",
       "\n",
       "    .dataframe thead th {\n",
       "        text-align: right;\n",
       "    }\n",
       "</style>\n",
       "<table border=\"1\" class=\"dataframe\">\n",
       "  <thead>\n",
       "    <tr style=\"text-align: right;\">\n",
       "      <th></th>\n",
       "      <th>Ai1</th>\n",
       "      <th>Ai2</th>\n",
       "      <th>Ai1-Ai2</th>\n",
       "      <th>Ai1/Ai2</th>\n",
       "      <th>Xi=log(Ai1/Ai2)</th>\n",
       "    </tr>\n",
       "  </thead>\n",
       "  <tbody>\n",
       "    <tr>\n",
       "      <th>15</th>\n",
       "      <td>217.3</td>\n",
       "      <td>195.2</td>\n",
       "      <td>22.1</td>\n",
       "      <td>1.1132</td>\n",
       "      <td>0.10725</td>\n",
       "    </tr>\n",
       "    <tr>\n",
       "      <th>16</th>\n",
       "      <td>174.4</td>\n",
       "      <td>122.7</td>\n",
       "      <td>51.7</td>\n",
       "      <td>1.4214</td>\n",
       "      <td>0.35161</td>\n",
       "    </tr>\n",
       "    <tr>\n",
       "      <th>17</th>\n",
       "      <td>155.8</td>\n",
       "      <td>188.2</td>\n",
       "      <td>-32.4</td>\n",
       "      <td>0.8278</td>\n",
       "      <td>-0.18893</td>\n",
       "    </tr>\n",
       "    <tr>\n",
       "      <th>18</th>\n",
       "      <td>299.5</td>\n",
       "      <td>309.2</td>\n",
       "      <td>-9.7</td>\n",
       "      <td>0.9686</td>\n",
       "      <td>-0.03187</td>\n",
       "    </tr>\n",
       "    <tr>\n",
       "      <th>19</th>\n",
       "      <td>157.6</td>\n",
       "      <td>153.5</td>\n",
       "      <td>4.1</td>\n",
       "      <td>1.0267</td>\n",
       "      <td>0.02636</td>\n",
       "    </tr>\n",
       "    <tr>\n",
       "      <th>20</th>\n",
       "      <td>121.4</td>\n",
       "      <td>104.7</td>\n",
       "      <td>16.7</td>\n",
       "      <td>1.1595</td>\n",
       "      <td>0.14799</td>\n",
       "    </tr>\n",
       "    <tr>\n",
       "      <th>21</th>\n",
       "      <td>143.9</td>\n",
       "      <td>119.3</td>\n",
       "      <td>24.6</td>\n",
       "      <td>1.2062</td>\n",
       "      <td>0.18748</td>\n",
       "    </tr>\n",
       "    <tr>\n",
       "      <th>22</th>\n",
       "      <td>157.0</td>\n",
       "      <td>146.8</td>\n",
       "      <td>10.2</td>\n",
       "      <td>1.0695</td>\n",
       "      <td>0.06717</td>\n",
       "    </tr>\n",
       "    <tr>\n",
       "      <th>23</th>\n",
       "      <td>114.5</td>\n",
       "      <td>138.2</td>\n",
       "      <td>-23.7</td>\n",
       "      <td>0.8285</td>\n",
       "      <td>-0.18813</td>\n",
       "    </tr>\n",
       "    <tr>\n",
       "      <th>24</th>\n",
       "      <td>71.0</td>\n",
       "      <td>70.3</td>\n",
       "      <td>0.7</td>\n",
       "      <td>1.01</td>\n",
       "      <td>0.00991</td>\n",
       "    </tr>\n",
       "  </tbody>\n",
       "</table>\n",
       "</div>"
      ],
      "text/plain": [
       "      Ai1    Ai2  Ai1-Ai2 Ai1/Ai2  Xi=log(Ai1/Ai2)\n",
       "15  217.3  195.2     22.1  1.1132          0.10725\n",
       "16  174.4  122.7     51.7  1.4214          0.35161\n",
       "17  155.8  188.2    -32.4  0.8278         -0.18893\n",
       "18  299.5  309.2     -9.7  0.9686         -0.03187\n",
       "19  157.6  153.5      4.1  1.0267          0.02636\n",
       "20  121.4  104.7     16.7  1.1595          0.14799\n",
       "21  143.9  119.3     24.6  1.2062          0.18748\n",
       "22  157.0  146.8     10.2  1.0695          0.06717\n",
       "23  114.5  138.2    -23.7  0.8285         -0.18813\n",
       "24   71.0   70.3      0.7    1.01          0.00991"
      ]
     },
     "execution_count": 4,
     "metadata": {},
     "output_type": "execute_result"
    }
   ],
   "source": [
    "data.iloc[15:25, 1:6]"
   ]
  },
  {
   "cell_type": "code",
   "execution_count": 5,
   "metadata": {},
   "outputs": [
    {
     "data": {
      "text/plain": [
       "0.48"
      ]
     },
     "execution_count": 5,
     "metadata": {},
     "output_type": "execute_result"
    }
   ],
   "source": [
    "y = 0\n",
    "for xi in data.iloc[0:10, 1]:\n",
    "    for xj in data.iloc[0:10, 2]:\n",
    "        diff = (xi / xj)\n",
    "#         print(diff)\n",
    "        if diff > 1:\n",
    "            y += 1\n",
    "\n",
    "y = y/(m*n)\n",
    "y"
   ]
  },
  {
   "cell_type": "code",
   "execution_count": 6,
   "metadata": {},
   "outputs": [],
   "source": [
    "from scipy.special import comb"
   ]
  },
  {
   "cell_type": "code",
   "execution_count": 7,
   "metadata": {},
   "outputs": [
    {
     "data": {
      "text/plain": [
       "0.5377777777777778"
      ]
     },
     "execution_count": 7,
     "metadata": {},
     "output_type": "execute_result"
    }
   ],
   "source": [
    "yFFG = 0\n",
    "for xi1 in data.iloc[0:10 - 1, 1]:\n",
    "    for xi2 in data.iloc[0 + 1:10, 1]:\n",
    "        for yj in data.iloc[0:10, 2]:\n",
    "            diff1 = (xi1 - yj)\n",
    "            diff2 = (xi2 - yj)\n",
    "            if diff1 > 0 and diff2 > 0:\n",
    "                yFFG += 1\n",
    "\n",
    "yFFG = comb(m,2)**-1 * (1/n) * yFFG\n",
    "yFFG"
   ]
  },
  {
   "cell_type": "code",
   "execution_count": 8,
   "metadata": {},
   "outputs": [
    {
     "data": {
      "text/plain": [
       "0.6"
      ]
     },
     "execution_count": 8,
     "metadata": {},
     "output_type": "execute_result"
    }
   ],
   "source": [
    "yFGG = 0\n",
    "for xi in data.iloc[0:10, 1]:\n",
    "    for yj1 in data.iloc[0:10 - 1, 2]:\n",
    "        for yj2 in data.iloc[0 + 1:10, 2]:\n",
    "            diff1 = (xi - yj1)\n",
    "            diff2 = (xi - yj2)\n",
    "            if diff1 > 0 and diff2 > 0:\n",
    "                yFGG += 1\n",
    "\n",
    "yFGG = (1/m) * comb(n,2)**-1 * yFGG\n",
    "yFGG"
   ]
  },
  {
   "cell_type": "code",
   "execution_count": 9,
   "metadata": {},
   "outputs": [
    {
     "data": {
      "text/plain": [
       "0.2518412198191551"
      ]
     },
     "execution_count": 9,
     "metadata": {},
     "output_type": "execute_result"
    }
   ],
   "source": [
    "sigma2 = (1/(m*n)) * (y - (m + n - 1) * y**2 + (m - 1) * yFFG + (n - 1) * yFGG)\n",
    "sigma = sigma2**.5 \n",
    "sigma"
   ]
  },
  {
   "cell_type": "code",
   "execution_count": 10,
   "metadata": {},
   "outputs": [],
   "source": [
    "# paper values\n",
    "e1 = .3129\n",
    "e2 = .2661"
   ]
  },
  {
   "cell_type": "code",
   "execution_count": 11,
   "metadata": {},
   "outputs": [
    {
     "data": {
      "text/plain": [
       "1.3055481342951287"
      ]
     },
     "execution_count": 11,
     "metadata": {},
     "output_type": "execute_result"
    }
   ],
   "source": [
    "Z = abs(.33 - (.5 + (e2 - e1)/2)) / .11229\n",
    "Z"
   ]
  },
  {
   "cell_type": "code",
   "execution_count": 12,
   "metadata": {},
   "outputs": [
    {
     "data": {
      "text/plain": [
       "2.57814587229495"
      ]
     },
     "execution_count": 12,
     "metadata": {},
     "output_type": "execute_result"
    }
   ],
   "source": [
    "phi = (e1 + e2)/2 / .11229\n",
    "phi"
   ]
  },
  {
   "cell_type": "code",
   "execution_count": 13,
   "metadata": {},
   "outputs": [],
   "source": [
    "from scipy.stats.distributions import chi, chi2"
   ]
  },
  {
   "cell_type": "code",
   "execution_count": 14,
   "metadata": {},
   "outputs": [
    {
     "data": {
      "text/plain": [
       "2.5789083502194314"
      ]
     },
     "execution_count": 14,
     "metadata": {},
     "output_type": "execute_result"
    }
   ],
   "source": [
    "Ca = chi2.ppf(q = 0.05, df = 1, loc = phi**2)**.5\n",
    "Ca"
   ]
  },
  {
   "cell_type": "code",
   "execution_count": null,
   "metadata": {},
   "outputs": [],
   "source": []
  }
 ],
 "metadata": {
  "kernelspec": {
   "display_name": "Python 3",
   "language": "python",
   "name": "python3"
  },
  "language_info": {
   "codemirror_mode": {
    "name": "ipython",
    "version": 3
   },
   "file_extension": ".py",
   "mimetype": "text/x-python",
   "name": "python",
   "nbconvert_exporter": "python",
   "pygments_lexer": "ipython3",
   "version": "3.6.5"
  }
 },
 "nbformat": 4,
 "nbformat_minor": 2
}
