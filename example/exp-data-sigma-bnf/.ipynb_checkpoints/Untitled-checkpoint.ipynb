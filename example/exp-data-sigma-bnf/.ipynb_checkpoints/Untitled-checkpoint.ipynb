{
 "cells": [
  {
   "cell_type": "code",
   "execution_count": 1,
   "metadata": {},
   "outputs": [],
   "source": [
    "import pandas"
   ]
  },
  {
   "cell_type": "code",
   "execution_count": 8,
   "metadata": {},
   "outputs": [],
   "source": [
    "with open('./cold_stress_1.txt', 'r') as infile:\n",
    "    data = pandas.read_csv(infile)"
   ]
  },
  {
   "cell_type": "code",
   "execution_count": 16,
   "metadata": {},
   "outputs": [
    {
     "data": {
      "text/plain": [
       "Index(['[T]', 'aaeA_RNA', 'aaeB_RNA', 'aaeR_RNA', 'aaeX_RNA', 'aas_RNA',\n",
       "       'aat_RNA', 'abgA_RNA', 'abgB_RNA', 'abgR_RNA',\n",
       "       ...\n",
       "       'zntR_RNA', 'znuA_RNA', 'znuB_RNA', 'znuC_RNA', 'zraP_RNA', 'zraR_RNA',\n",
       "       'zraS_RNA', 'zupT_RNA', 'zur_RNA', 'zwf_RNA'],\n",
       "      dtype='object', length=4350)"
      ]
     },
     "execution_count": 16,
     "metadata": {},
     "output_type": "execute_result"
    }
   ],
   "source": [
    "data.columns"
   ]
  },
  {
   "cell_type": "code",
   "execution_count": 75,
   "metadata": {},
   "outputs": [],
   "source": [
    "# path = './oxidative_stress_2.txt'\n",
    "with open(path, 'r') as infile:\n",
    "    tmp = pandas.read_csv(infile, delimiter = '\\s', engine='python')\n",
    "tmp = tmp.iloc[2:,:].reset_index(drop = True)\n",
    "\n",
    "tmp.insert(0, '[T]', data['[T]'])\n",
    "tmp = tmp.drop('T\\ID', axis = 1)\n",
    "\n",
    "columns = [ x + '_RNA' for x in list(tmp.columns)]\n",
    "columns[0] = '[T]'\n",
    "\n",
    "tmp.columns = columns\n",
    "\n",
    "with open(path, 'w') as outfile:\n",
    "    tmp.to_csv(outfile, sep = ',', index = False)"
   ]
  },
  {
   "cell_type": "code",
   "execution_count": null,
   "metadata": {},
   "outputs": [],
   "source": []
  }
 ],
 "metadata": {
  "kernelspec": {
   "display_name": "Python 3",
   "language": "python",
   "name": "python3"
  },
  "language_info": {
   "codemirror_mode": {
    "name": "ipython",
    "version": 3
   },
   "file_extension": ".py",
   "mimetype": "text/x-python",
   "name": "python",
   "nbconvert_exporter": "python",
   "pygments_lexer": "ipython3",
   "version": "3.6.7"
  }
 },
 "nbformat": 4,
 "nbformat_minor": 2
}
