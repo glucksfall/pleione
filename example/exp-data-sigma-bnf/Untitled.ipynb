{
 "cells": [
  {
   "cell_type": "code",
   "execution_count": 1,
   "metadata": {},
   "outputs": [],
   "source": [
    "import glob\n",
    "import pandas"
   ]
  },
  {
   "cell_type": "code",
   "execution_count": 2,
   "metadata": {},
   "outputs": [],
   "source": [
    "lst = sorted(glob.glob('./cold_stress_*.txt'))"
   ]
  },
  {
   "cell_type": "code",
   "execution_count": 3,
   "metadata": {},
   "outputs": [],
   "source": [
    "data = []\n",
    "for file in lst:\n",
    "    with open(file, 'r') as infile:\n",
    "        data.append(pandas.read_csv(infile))"
   ]
  },
  {
   "cell_type": "code",
   "execution_count": 4,
   "metadata": {},
   "outputs": [],
   "source": [
    "avrg = data[0] + data[1] + data[2]"
   ]
  },
  {
   "cell_type": "code",
   "execution_count": 5,
   "metadata": {},
   "outputs": [],
   "source": [
    "avrg = avrg.divide(3)"
   ]
  },
  {
   "cell_type": "code",
   "execution_count": 26,
   "metadata": {},
   "outputs": [
    {
     "data": {
      "text/html": [
       "<div>\n",
       "<style scoped>\n",
       "    .dataframe tbody tr th:only-of-type {\n",
       "        vertical-align: middle;\n",
       "    }\n",
       "\n",
       "    .dataframe tbody tr th {\n",
       "        vertical-align: top;\n",
       "    }\n",
       "\n",
       "    .dataframe thead th {\n",
       "        text-align: right;\n",
       "    }\n",
       "</style>\n",
       "<table border=\"1\" class=\"dataframe\">\n",
       "  <thead>\n",
       "    <tr style=\"text-align: right;\">\n",
       "      <th></th>\n",
       "      <th>[T]</th>\n",
       "      <th>rpoA_RNA</th>\n",
       "      <th>rpoB_RNA</th>\n",
       "      <th>rpoC_RNA</th>\n",
       "      <th>rpoD_RNA</th>\n",
       "      <th>rpoE_RNA</th>\n",
       "      <th>rpoH_RNA</th>\n",
       "      <th>rpoN_RNA</th>\n",
       "      <th>rpoS_RNA</th>\n",
       "      <th>fecI_RNA</th>\n",
       "      <th>fliA_RNA</th>\n",
       "    </tr>\n",
       "  </thead>\n",
       "  <tbody>\n",
       "    <tr>\n",
       "      <th>0</th>\n",
       "      <td>10.0</td>\n",
       "      <td>8.274951</td>\n",
       "      <td>10.596124</td>\n",
       "      <td>7.210341</td>\n",
       "      <td>6.851620</td>\n",
       "      <td>6.528912</td>\n",
       "      <td>8.264990</td>\n",
       "      <td>6.189025</td>\n",
       "      <td>5.316423</td>\n",
       "      <td>3.120450</td>\n",
       "      <td>12.304054</td>\n",
       "    </tr>\n",
       "    <tr>\n",
       "      <th>1</th>\n",
       "      <td>20.0</td>\n",
       "      <td>9.041547</td>\n",
       "      <td>12.288847</td>\n",
       "      <td>7.237719</td>\n",
       "      <td>6.708333</td>\n",
       "      <td>7.121860</td>\n",
       "      <td>7.821812</td>\n",
       "      <td>5.956855</td>\n",
       "      <td>5.141409</td>\n",
       "      <td>3.020152</td>\n",
       "      <td>12.627781</td>\n",
       "    </tr>\n",
       "    <tr>\n",
       "      <th>2</th>\n",
       "      <td>30.0</td>\n",
       "      <td>12.594710</td>\n",
       "      <td>13.415608</td>\n",
       "      <td>7.458413</td>\n",
       "      <td>6.901882</td>\n",
       "      <td>7.561797</td>\n",
       "      <td>8.058594</td>\n",
       "      <td>6.118452</td>\n",
       "      <td>5.558013</td>\n",
       "      <td>2.202277</td>\n",
       "      <td>11.628192</td>\n",
       "    </tr>\n",
       "    <tr>\n",
       "      <th>3</th>\n",
       "      <td>40.0</td>\n",
       "      <td>11.626855</td>\n",
       "      <td>11.991635</td>\n",
       "      <td>7.582401</td>\n",
       "      <td>6.931903</td>\n",
       "      <td>7.275367</td>\n",
       "      <td>7.727695</td>\n",
       "      <td>5.848441</td>\n",
       "      <td>5.587369</td>\n",
       "      <td>1.937657</td>\n",
       "      <td>12.872532</td>\n",
       "    </tr>\n",
       "    <tr>\n",
       "      <th>4</th>\n",
       "      <td>50.0</td>\n",
       "      <td>9.431705</td>\n",
       "      <td>13.869048</td>\n",
       "      <td>7.573967</td>\n",
       "      <td>6.841268</td>\n",
       "      <td>7.928765</td>\n",
       "      <td>7.621256</td>\n",
       "      <td>5.943349</td>\n",
       "      <td>5.798071</td>\n",
       "      <td>1.993364</td>\n",
       "      <td>12.218424</td>\n",
       "    </tr>\n",
       "    <tr>\n",
       "      <th>5</th>\n",
       "      <td>90.0</td>\n",
       "      <td>9.003034</td>\n",
       "      <td>12.348380</td>\n",
       "      <td>7.167122</td>\n",
       "      <td>6.509769</td>\n",
       "      <td>7.261923</td>\n",
       "      <td>7.432509</td>\n",
       "      <td>5.661722</td>\n",
       "      <td>5.960175</td>\n",
       "      <td>1.468701</td>\n",
       "      <td>13.084874</td>\n",
       "    </tr>\n",
       "  </tbody>\n",
       "</table>\n",
       "</div>"
      ],
      "text/plain": [
       "    [T]   rpoA_RNA   rpoB_RNA  rpoC_RNA  rpoD_RNA  rpoE_RNA  rpoH_RNA  \\\n",
       "0  10.0   8.274951  10.596124  7.210341  6.851620  6.528912  8.264990   \n",
       "1  20.0   9.041547  12.288847  7.237719  6.708333  7.121860  7.821812   \n",
       "2  30.0  12.594710  13.415608  7.458413  6.901882  7.561797  8.058594   \n",
       "3  40.0  11.626855  11.991635  7.582401  6.931903  7.275367  7.727695   \n",
       "4  50.0   9.431705  13.869048  7.573967  6.841268  7.928765  7.621256   \n",
       "5  90.0   9.003034  12.348380  7.167122  6.509769  7.261923  7.432509   \n",
       "\n",
       "   rpoN_RNA  rpoS_RNA  fecI_RNA   fliA_RNA  \n",
       "0  6.189025  5.316423  3.120450  12.304054  \n",
       "1  5.956855  5.141409  3.020152  12.627781  \n",
       "2  6.118452  5.558013  2.202277  11.628192  \n",
       "3  5.848441  5.587369  1.937657  12.872532  \n",
       "4  5.943349  5.798071  1.993364  12.218424  \n",
       "5  5.661722  5.960175  1.468701  13.084874  "
      ]
     },
     "execution_count": 26,
     "metadata": {},
     "output_type": "execute_result"
    }
   ],
   "source": [
    "lst = ['[T]', \n",
    "       'rpoA_RNA', 'rpoB_RNA', 'rpoC_RNA', 'rpoD_RNA', 'rpoE_RNA', \n",
    "       'rpoH_RNA', 'rpoN_RNA', 'rpoS_RNA', 'fecI_RNA', 'fliA_RNA']\n",
    "avrg[lst]"
   ]
  },
  {
   "cell_type": "code",
   "execution_count": 10,
   "metadata": {},
   "outputs": [],
   "source": [
    "with open('./cold_stress_avrg.txt', 'w') as outfile:\n",
    "    avrg[lst].to_csv(outfile, sep = ' ', index = False)"
   ]
  },
  {
   "cell_type": "code",
   "execution_count": 17,
   "metadata": {},
   "outputs": [],
   "source": [
    "stdv = (data[0] - avrg)**2 + (data[1] - avrg)**2 + (data[2] - avrg)**2"
   ]
  },
  {
   "cell_type": "code",
   "execution_count": 18,
   "metadata": {},
   "outputs": [],
   "source": [
    "stdv = stdv.divide(2)"
   ]
  },
  {
   "cell_type": "code",
   "execution_count": 19,
   "metadata": {},
   "outputs": [],
   "source": [
    "stdv.columns = [ x + '_SD' for x in list(stdv.columns)]"
   ]
  },
  {
   "cell_type": "code",
   "execution_count": 27,
   "metadata": {},
   "outputs": [],
   "source": [
    "lst = [ x + '_SD' for x in lst[1:] ]"
   ]
  },
  {
   "cell_type": "code",
   "execution_count": 28,
   "metadata": {},
   "outputs": [],
   "source": [
    "with open('./cold_stress_stdv.txt', 'w') as outfile:\n",
    "    stdv[lst].to_csv(outfile, sep = ' ', index = False)"
   ]
  },
  {
   "cell_type": "code",
   "execution_count": null,
   "metadata": {},
   "outputs": [],
   "source": []
  }
 ],
 "metadata": {
  "kernelspec": {
   "display_name": "Python 3",
   "language": "python",
   "name": "python3"
  },
  "language_info": {
   "codemirror_mode": {
    "name": "ipython",
    "version": 3
   },
   "file_extension": ".py",
   "mimetype": "text/x-python",
   "name": "python",
   "nbconvert_exporter": "python",
   "pygments_lexer": "ipython3",
   "version": "3.6.7"
  }
 },
 "nbformat": 4,
 "nbformat_minor": 2
}
